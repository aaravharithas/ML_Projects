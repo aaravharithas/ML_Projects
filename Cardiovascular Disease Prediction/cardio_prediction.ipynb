{
 "cells": [
  {
   "cell_type": "code",
   "execution_count": 1,
   "metadata": {
    "id": "SPY8aahjIvs4"
   },
   "outputs": [],
   "source": [
    "import pandas as pd\n",
    "import numpy as np\n",
    "import seaborn as sns\n",
    "import matplotlib.pyplot as plt\n",
    "from sklearn import metrics"
   ]
  },
  {
   "cell_type": "markdown",
   "metadata": {},
   "source": [
    "# Importing csv file from your device to Google colab"
   ]
  },
  {
   "cell_type": "markdown",
   "metadata": {},
   "source": [
    "### Comment that part if you are running it on Jupyter Notebook"
   ]
  },
  {
   "cell_type": "code",
   "execution_count": 2,
   "metadata": {
    "id": "8u6qaZ4nKY9u"
   },
   "outputs": [],
   "source": [
    "# #Importing csv file in google colab from your device\n",
    "# from google.colab import files #step 1 import files module form google.colab library\n",
    "# import io"
   ]
  },
  {
   "cell_type": "code",
   "execution_count": 3,
   "metadata": {
    "colab": {
     "base_uri": "https://localhost:8080/",
     "height": 73
    },
    "id": "f-UJpXSPKsmJ",
    "outputId": "d91851f5-6b3b-4579-fcc6-4ac794dd1aed"
   },
   "outputs": [],
   "source": [
    "# uploaded = files.upload() #for uploading to google colab"
   ]
  },
  {
   "cell_type": "code",
   "execution_count": 4,
   "metadata": {
    "colab": {
     "base_uri": "https://localhost:8080/",
     "height": 206
    },
    "id": "-_MnVCQCKv7C",
    "outputId": "7ebefb89-c45e-4a6b-8ff2-73032857b59f"
   },
   "outputs": [],
   "source": [
    "## importing csv file into pandas dataframe\n",
    "# df = pd.read_csv(io.BytesIO(uploaded['cardio_train.csv']),delimiter=';')\n",
    "# df.head()"
   ]
  },
  {
   "cell_type": "markdown",
   "metadata": {},
   "source": [
    "# Importing csv file into pandas dataframe"
   ]
  },
  {
   "cell_type": "markdown",
   "metadata": {},
   "source": [
    "### Comment that part if you are running it on Google colab"
   ]
  },
  {
   "cell_type": "code",
   "execution_count": 5,
   "metadata": {},
   "outputs": [
    {
     "data": {
      "text/html": [
       "<div>\n",
       "<style scoped>\n",
       "    .dataframe tbody tr th:only-of-type {\n",
       "        vertical-align: middle;\n",
       "    }\n",
       "\n",
       "    .dataframe tbody tr th {\n",
       "        vertical-align: top;\n",
       "    }\n",
       "\n",
       "    .dataframe thead th {\n",
       "        text-align: right;\n",
       "    }\n",
       "</style>\n",
       "<table border=\"1\" class=\"dataframe\">\n",
       "  <thead>\n",
       "    <tr style=\"text-align: right;\">\n",
       "      <th></th>\n",
       "      <th>id</th>\n",
       "      <th>age</th>\n",
       "      <th>gender</th>\n",
       "      <th>height</th>\n",
       "      <th>weight</th>\n",
       "      <th>ap_hi</th>\n",
       "      <th>ap_lo</th>\n",
       "      <th>cholesterol</th>\n",
       "      <th>gluc</th>\n",
       "      <th>smoke</th>\n",
       "      <th>alco</th>\n",
       "      <th>active</th>\n",
       "      <th>cardio</th>\n",
       "    </tr>\n",
       "  </thead>\n",
       "  <tbody>\n",
       "    <tr>\n",
       "      <th>0</th>\n",
       "      <td>0</td>\n",
       "      <td>18393</td>\n",
       "      <td>2</td>\n",
       "      <td>168</td>\n",
       "      <td>62.0</td>\n",
       "      <td>110</td>\n",
       "      <td>80</td>\n",
       "      <td>1</td>\n",
       "      <td>1</td>\n",
       "      <td>0</td>\n",
       "      <td>0</td>\n",
       "      <td>1</td>\n",
       "      <td>0</td>\n",
       "    </tr>\n",
       "    <tr>\n",
       "      <th>1</th>\n",
       "      <td>1</td>\n",
       "      <td>20228</td>\n",
       "      <td>1</td>\n",
       "      <td>156</td>\n",
       "      <td>85.0</td>\n",
       "      <td>140</td>\n",
       "      <td>90</td>\n",
       "      <td>3</td>\n",
       "      <td>1</td>\n",
       "      <td>0</td>\n",
       "      <td>0</td>\n",
       "      <td>1</td>\n",
       "      <td>1</td>\n",
       "    </tr>\n",
       "    <tr>\n",
       "      <th>2</th>\n",
       "      <td>2</td>\n",
       "      <td>18857</td>\n",
       "      <td>1</td>\n",
       "      <td>165</td>\n",
       "      <td>64.0</td>\n",
       "      <td>130</td>\n",
       "      <td>70</td>\n",
       "      <td>3</td>\n",
       "      <td>1</td>\n",
       "      <td>0</td>\n",
       "      <td>0</td>\n",
       "      <td>0</td>\n",
       "      <td>1</td>\n",
       "    </tr>\n",
       "    <tr>\n",
       "      <th>3</th>\n",
       "      <td>3</td>\n",
       "      <td>17623</td>\n",
       "      <td>2</td>\n",
       "      <td>169</td>\n",
       "      <td>82.0</td>\n",
       "      <td>150</td>\n",
       "      <td>100</td>\n",
       "      <td>1</td>\n",
       "      <td>1</td>\n",
       "      <td>0</td>\n",
       "      <td>0</td>\n",
       "      <td>1</td>\n",
       "      <td>1</td>\n",
       "    </tr>\n",
       "    <tr>\n",
       "      <th>4</th>\n",
       "      <td>4</td>\n",
       "      <td>17474</td>\n",
       "      <td>1</td>\n",
       "      <td>156</td>\n",
       "      <td>56.0</td>\n",
       "      <td>100</td>\n",
       "      <td>60</td>\n",
       "      <td>1</td>\n",
       "      <td>1</td>\n",
       "      <td>0</td>\n",
       "      <td>0</td>\n",
       "      <td>0</td>\n",
       "      <td>0</td>\n",
       "    </tr>\n",
       "  </tbody>\n",
       "</table>\n",
       "</div>"
      ],
      "text/plain": [
       "   id    age  gender  height  weight  ap_hi  ap_lo  cholesterol  gluc  smoke  \\\n",
       "0   0  18393       2     168    62.0    110     80            1     1      0   \n",
       "1   1  20228       1     156    85.0    140     90            3     1      0   \n",
       "2   2  18857       1     165    64.0    130     70            3     1      0   \n",
       "3   3  17623       2     169    82.0    150    100            1     1      0   \n",
       "4   4  17474       1     156    56.0    100     60            1     1      0   \n",
       "\n",
       "   alco  active  cardio  \n",
       "0     0       1       0  \n",
       "1     0       1       1  \n",
       "2     0       0       1  \n",
       "3     0       1       1  \n",
       "4     0       0       0  "
      ]
     },
     "execution_count": 5,
     "metadata": {},
     "output_type": "execute_result"
    }
   ],
   "source": [
    "#Comment that part if you are running it on Google colab\n",
    "df = pd.read_csv('cardio_train.csv',delimiter=';')\n",
    "df.head()"
   ]
  },
  {
   "cell_type": "markdown",
   "metadata": {},
   "source": [
    "### Dropping the id column because it doesn't add much information to data"
   ]
  },
  {
   "cell_type": "markdown",
   "metadata": {},
   "source": [
    "By dropping it, it also help us in finding the duplicates in dataset."
   ]
  },
  {
   "cell_type": "code",
   "execution_count": 6,
   "metadata": {
    "colab": {
     "base_uri": "https://localhost:8080/",
     "height": 206
    },
    "id": "nqZBG5HjLefx",
    "outputId": "4654ea66-7b1f-42d7-e8b3-13a71600217e"
   },
   "outputs": [
    {
     "data": {
      "text/html": [
       "<div>\n",
       "<style scoped>\n",
       "    .dataframe tbody tr th:only-of-type {\n",
       "        vertical-align: middle;\n",
       "    }\n",
       "\n",
       "    .dataframe tbody tr th {\n",
       "        vertical-align: top;\n",
       "    }\n",
       "\n",
       "    .dataframe thead th {\n",
       "        text-align: right;\n",
       "    }\n",
       "</style>\n",
       "<table border=\"1\" class=\"dataframe\">\n",
       "  <thead>\n",
       "    <tr style=\"text-align: right;\">\n",
       "      <th></th>\n",
       "      <th>age</th>\n",
       "      <th>gender</th>\n",
       "      <th>height</th>\n",
       "      <th>weight</th>\n",
       "      <th>ap_hi</th>\n",
       "      <th>ap_lo</th>\n",
       "      <th>cholesterol</th>\n",
       "      <th>gluc</th>\n",
       "      <th>smoke</th>\n",
       "      <th>alco</th>\n",
       "      <th>active</th>\n",
       "      <th>cardio</th>\n",
       "    </tr>\n",
       "  </thead>\n",
       "  <tbody>\n",
       "    <tr>\n",
       "      <th>0</th>\n",
       "      <td>18393</td>\n",
       "      <td>2</td>\n",
       "      <td>168</td>\n",
       "      <td>62.0</td>\n",
       "      <td>110</td>\n",
       "      <td>80</td>\n",
       "      <td>1</td>\n",
       "      <td>1</td>\n",
       "      <td>0</td>\n",
       "      <td>0</td>\n",
       "      <td>1</td>\n",
       "      <td>0</td>\n",
       "    </tr>\n",
       "    <tr>\n",
       "      <th>1</th>\n",
       "      <td>20228</td>\n",
       "      <td>1</td>\n",
       "      <td>156</td>\n",
       "      <td>85.0</td>\n",
       "      <td>140</td>\n",
       "      <td>90</td>\n",
       "      <td>3</td>\n",
       "      <td>1</td>\n",
       "      <td>0</td>\n",
       "      <td>0</td>\n",
       "      <td>1</td>\n",
       "      <td>1</td>\n",
       "    </tr>\n",
       "    <tr>\n",
       "      <th>2</th>\n",
       "      <td>18857</td>\n",
       "      <td>1</td>\n",
       "      <td>165</td>\n",
       "      <td>64.0</td>\n",
       "      <td>130</td>\n",
       "      <td>70</td>\n",
       "      <td>3</td>\n",
       "      <td>1</td>\n",
       "      <td>0</td>\n",
       "      <td>0</td>\n",
       "      <td>0</td>\n",
       "      <td>1</td>\n",
       "    </tr>\n",
       "    <tr>\n",
       "      <th>3</th>\n",
       "      <td>17623</td>\n",
       "      <td>2</td>\n",
       "      <td>169</td>\n",
       "      <td>82.0</td>\n",
       "      <td>150</td>\n",
       "      <td>100</td>\n",
       "      <td>1</td>\n",
       "      <td>1</td>\n",
       "      <td>0</td>\n",
       "      <td>0</td>\n",
       "      <td>1</td>\n",
       "      <td>1</td>\n",
       "    </tr>\n",
       "    <tr>\n",
       "      <th>4</th>\n",
       "      <td>17474</td>\n",
       "      <td>1</td>\n",
       "      <td>156</td>\n",
       "      <td>56.0</td>\n",
       "      <td>100</td>\n",
       "      <td>60</td>\n",
       "      <td>1</td>\n",
       "      <td>1</td>\n",
       "      <td>0</td>\n",
       "      <td>0</td>\n",
       "      <td>0</td>\n",
       "      <td>0</td>\n",
       "    </tr>\n",
       "  </tbody>\n",
       "</table>\n",
       "</div>"
      ],
      "text/plain": [
       "     age  gender  height  weight  ap_hi  ap_lo  cholesterol  gluc  smoke  \\\n",
       "0  18393       2     168    62.0    110     80            1     1      0   \n",
       "1  20228       1     156    85.0    140     90            3     1      0   \n",
       "2  18857       1     165    64.0    130     70            3     1      0   \n",
       "3  17623       2     169    82.0    150    100            1     1      0   \n",
       "4  17474       1     156    56.0    100     60            1     1      0   \n",
       "\n",
       "   alco  active  cardio  \n",
       "0     0       1       0  \n",
       "1     0       1       1  \n",
       "2     0       0       1  \n",
       "3     0       1       1  \n",
       "4     0       0       0  "
      ]
     },
     "execution_count": 6,
     "metadata": {},
     "output_type": "execute_result"
    }
   ],
   "source": [
    "df.drop(['id'],axis=1,inplace=True)\n",
    "df.head()"
   ]
  },
  {
   "cell_type": "markdown",
   "metadata": {},
   "source": [
    "# Data exploration and visualization"
   ]
  },
  {
   "cell_type": "code",
   "execution_count": 7,
   "metadata": {
    "colab": {
     "base_uri": "https://localhost:8080/"
    },
    "id": "TUvgRQyTjRx5",
    "outputId": "42b6168f-c35e-40fc-cabb-51cf3cb25d00"
   },
   "outputs": [
    {
     "name": "stdout",
     "output_type": "stream",
     "text": [
      "<class 'pandas.core.frame.DataFrame'>\n",
      "RangeIndex: 70000 entries, 0 to 69999\n",
      "Data columns (total 12 columns):\n",
      " #   Column       Non-Null Count  Dtype  \n",
      "---  ------       --------------  -----  \n",
      " 0   age          70000 non-null  int64  \n",
      " 1   gender       70000 non-null  int64  \n",
      " 2   height       70000 non-null  int64  \n",
      " 3   weight       70000 non-null  float64\n",
      " 4   ap_hi        70000 non-null  int64  \n",
      " 5   ap_lo        70000 non-null  int64  \n",
      " 6   cholesterol  70000 non-null  int64  \n",
      " 7   gluc         70000 non-null  int64  \n",
      " 8   smoke        70000 non-null  int64  \n",
      " 9   alco         70000 non-null  int64  \n",
      " 10  active       70000 non-null  int64  \n",
      " 11  cardio       70000 non-null  int64  \n",
      "dtypes: float64(1), int64(11)\n",
      "memory usage: 6.4 MB\n"
     ]
    }
   ],
   "source": [
    "df.info()"
   ]
  },
  {
   "cell_type": "markdown",
   "metadata": {},
   "source": [
    "It shows that there is total of 70,000 rows, no null values and not any object type columns to deals with."
   ]
  },
  {
   "cell_type": "code",
   "execution_count": 8,
   "metadata": {
    "colab": {
     "base_uri": "https://localhost:8080/",
     "height": 426
    },
    "id": "duFao_J3MpTM",
    "outputId": "c1248c36-f924-42a9-8c51-5a45896d4bc2"
   },
   "outputs": [
    {
     "data": {
      "text/html": [
       "<div>\n",
       "<style scoped>\n",
       "    .dataframe tbody tr th:only-of-type {\n",
       "        vertical-align: middle;\n",
       "    }\n",
       "\n",
       "    .dataframe tbody tr th {\n",
       "        vertical-align: top;\n",
       "    }\n",
       "\n",
       "    .dataframe thead th {\n",
       "        text-align: right;\n",
       "    }\n",
       "</style>\n",
       "<table border=\"1\" class=\"dataframe\">\n",
       "  <thead>\n",
       "    <tr style=\"text-align: right;\">\n",
       "      <th></th>\n",
       "      <th>count</th>\n",
       "      <th>mean</th>\n",
       "      <th>std</th>\n",
       "      <th>min</th>\n",
       "      <th>25%</th>\n",
       "      <th>50%</th>\n",
       "      <th>75%</th>\n",
       "      <th>max</th>\n",
       "    </tr>\n",
       "  </thead>\n",
       "  <tbody>\n",
       "    <tr>\n",
       "      <th>age</th>\n",
       "      <td>70000.0</td>\n",
       "      <td>19468.865814</td>\n",
       "      <td>2467.251667</td>\n",
       "      <td>10798.0</td>\n",
       "      <td>17664.0</td>\n",
       "      <td>19703.0</td>\n",
       "      <td>21327.0</td>\n",
       "      <td>23713.0</td>\n",
       "    </tr>\n",
       "    <tr>\n",
       "      <th>gender</th>\n",
       "      <td>70000.0</td>\n",
       "      <td>1.349571</td>\n",
       "      <td>0.476838</td>\n",
       "      <td>1.0</td>\n",
       "      <td>1.0</td>\n",
       "      <td>1.0</td>\n",
       "      <td>2.0</td>\n",
       "      <td>2.0</td>\n",
       "    </tr>\n",
       "    <tr>\n",
       "      <th>height</th>\n",
       "      <td>70000.0</td>\n",
       "      <td>164.359229</td>\n",
       "      <td>8.210126</td>\n",
       "      <td>55.0</td>\n",
       "      <td>159.0</td>\n",
       "      <td>165.0</td>\n",
       "      <td>170.0</td>\n",
       "      <td>250.0</td>\n",
       "    </tr>\n",
       "    <tr>\n",
       "      <th>weight</th>\n",
       "      <td>70000.0</td>\n",
       "      <td>74.205690</td>\n",
       "      <td>14.395757</td>\n",
       "      <td>10.0</td>\n",
       "      <td>65.0</td>\n",
       "      <td>72.0</td>\n",
       "      <td>82.0</td>\n",
       "      <td>200.0</td>\n",
       "    </tr>\n",
       "    <tr>\n",
       "      <th>ap_hi</th>\n",
       "      <td>70000.0</td>\n",
       "      <td>128.817286</td>\n",
       "      <td>154.011419</td>\n",
       "      <td>-150.0</td>\n",
       "      <td>120.0</td>\n",
       "      <td>120.0</td>\n",
       "      <td>140.0</td>\n",
       "      <td>16020.0</td>\n",
       "    </tr>\n",
       "    <tr>\n",
       "      <th>ap_lo</th>\n",
       "      <td>70000.0</td>\n",
       "      <td>96.630414</td>\n",
       "      <td>188.472530</td>\n",
       "      <td>-70.0</td>\n",
       "      <td>80.0</td>\n",
       "      <td>80.0</td>\n",
       "      <td>90.0</td>\n",
       "      <td>11000.0</td>\n",
       "    </tr>\n",
       "    <tr>\n",
       "      <th>cholesterol</th>\n",
       "      <td>70000.0</td>\n",
       "      <td>1.366871</td>\n",
       "      <td>0.680250</td>\n",
       "      <td>1.0</td>\n",
       "      <td>1.0</td>\n",
       "      <td>1.0</td>\n",
       "      <td>2.0</td>\n",
       "      <td>3.0</td>\n",
       "    </tr>\n",
       "    <tr>\n",
       "      <th>gluc</th>\n",
       "      <td>70000.0</td>\n",
       "      <td>1.226457</td>\n",
       "      <td>0.572270</td>\n",
       "      <td>1.0</td>\n",
       "      <td>1.0</td>\n",
       "      <td>1.0</td>\n",
       "      <td>1.0</td>\n",
       "      <td>3.0</td>\n",
       "    </tr>\n",
       "    <tr>\n",
       "      <th>smoke</th>\n",
       "      <td>70000.0</td>\n",
       "      <td>0.088129</td>\n",
       "      <td>0.283484</td>\n",
       "      <td>0.0</td>\n",
       "      <td>0.0</td>\n",
       "      <td>0.0</td>\n",
       "      <td>0.0</td>\n",
       "      <td>1.0</td>\n",
       "    </tr>\n",
       "    <tr>\n",
       "      <th>alco</th>\n",
       "      <td>70000.0</td>\n",
       "      <td>0.053771</td>\n",
       "      <td>0.225568</td>\n",
       "      <td>0.0</td>\n",
       "      <td>0.0</td>\n",
       "      <td>0.0</td>\n",
       "      <td>0.0</td>\n",
       "      <td>1.0</td>\n",
       "    </tr>\n",
       "    <tr>\n",
       "      <th>active</th>\n",
       "      <td>70000.0</td>\n",
       "      <td>0.803729</td>\n",
       "      <td>0.397179</td>\n",
       "      <td>0.0</td>\n",
       "      <td>1.0</td>\n",
       "      <td>1.0</td>\n",
       "      <td>1.0</td>\n",
       "      <td>1.0</td>\n",
       "    </tr>\n",
       "    <tr>\n",
       "      <th>cardio</th>\n",
       "      <td>70000.0</td>\n",
       "      <td>0.499700</td>\n",
       "      <td>0.500003</td>\n",
       "      <td>0.0</td>\n",
       "      <td>0.0</td>\n",
       "      <td>0.0</td>\n",
       "      <td>1.0</td>\n",
       "      <td>1.0</td>\n",
       "    </tr>\n",
       "  </tbody>\n",
       "</table>\n",
       "</div>"
      ],
      "text/plain": [
       "               count          mean          std      min      25%      50%  \\\n",
       "age          70000.0  19468.865814  2467.251667  10798.0  17664.0  19703.0   \n",
       "gender       70000.0      1.349571     0.476838      1.0      1.0      1.0   \n",
       "height       70000.0    164.359229     8.210126     55.0    159.0    165.0   \n",
       "weight       70000.0     74.205690    14.395757     10.0     65.0     72.0   \n",
       "ap_hi        70000.0    128.817286   154.011419   -150.0    120.0    120.0   \n",
       "ap_lo        70000.0     96.630414   188.472530    -70.0     80.0     80.0   \n",
       "cholesterol  70000.0      1.366871     0.680250      1.0      1.0      1.0   \n",
       "gluc         70000.0      1.226457     0.572270      1.0      1.0      1.0   \n",
       "smoke        70000.0      0.088129     0.283484      0.0      0.0      0.0   \n",
       "alco         70000.0      0.053771     0.225568      0.0      0.0      0.0   \n",
       "active       70000.0      0.803729     0.397179      0.0      1.0      1.0   \n",
       "cardio       70000.0      0.499700     0.500003      0.0      0.0      0.0   \n",
       "\n",
       "                 75%      max  \n",
       "age          21327.0  23713.0  \n",
       "gender           2.0      2.0  \n",
       "height         170.0    250.0  \n",
       "weight          82.0    200.0  \n",
       "ap_hi          140.0  16020.0  \n",
       "ap_lo           90.0  11000.0  \n",
       "cholesterol      2.0      3.0  \n",
       "gluc             1.0      3.0  \n",
       "smoke            0.0      1.0  \n",
       "alco             0.0      1.0  \n",
       "active           1.0      1.0  \n",
       "cardio           1.0      1.0  "
      ]
     },
     "execution_count": 8,
     "metadata": {},
     "output_type": "execute_result"
    }
   ],
   "source": [
    "df.describe().transpose()\n",
    "#height,weight,bood pressure ap_hi and ap_low has some outliers."
   ]
  },
  {
   "cell_type": "markdown",
   "metadata": {},
   "source": [
    "After using this method we found out there are <b>negative values in ap_hi and ap_lo</b> columns and<br>\n",
    "<b>outliers in height, weight, ap_hi, ap_lo columns</b>.<br>\n",
    "We deals with them in cleaning part."
   ]
  },
  {
   "cell_type": "markdown",
   "metadata": {},
   "source": [
    "## Distribution of dependent variable"
   ]
  },
  {
   "cell_type": "code",
   "execution_count": 9,
   "metadata": {
    "colab": {
     "base_uri": "https://localhost:8080/"
    },
    "id": "w7nMc2CRjkhh",
    "outputId": "6a213035-8106-45f2-eebf-fcb254cac6f4"
   },
   "outputs": [
    {
     "data": {
      "text/plain": [
       "0    35021\n",
       "1    34979\n",
       "Name: cardio, dtype: int64"
      ]
     },
     "execution_count": 9,
     "metadata": {},
     "output_type": "execute_result"
    }
   ],
   "source": [
    "df['cardio'].value_counts()"
   ]
  },
  {
   "cell_type": "code",
   "execution_count": 10,
   "metadata": {
    "colab": {
     "base_uri": "https://localhost:8080/",
     "height": 466
    },
    "id": "P6NM9FGrkLUW",
    "outputId": "4f530b50-94e0-42e4-bcde-3b2aff1b63f7"
   },
   "outputs": [
    {
     "data": {
      "text/plain": [
       "<Axes: xlabel='cardio', ylabel='count'>"
      ]
     },
     "execution_count": 10,
     "metadata": {},
     "output_type": "execute_result"
    },
    {
     "data": {
      "image/png": "[encoded data removed]",
      "text/plain": [
       "<Figure size 640x480 with 1 Axes>"
      ]
     },
     "metadata": {},
     "output_type": "display_data"
    }
   ],
   "source": [
    "sns.countplot(x='cardio',data=df)"
   ]
  },
  {
   "cell_type": "markdown",
   "metadata": {},
   "source": [
    "It shows that the cardio column is equally distributed."
   ]
  },
  {
   "cell_type": "markdown",
   "metadata": {},
   "source": [
    "## Checking distribution (distplot) and outliers (boxplot) in height and weight columns"
   ]
  },
  {
   "cell_type": "markdown",
   "metadata": {},
   "source": [
    "### Height Distribution"
   ]
  },
  {
   "cell_type": "code",
   "execution_count": 11,
   "metadata": {
    "colab": {
     "base_uri": "https://localhost:8080/",
     "height": 576
    },
    "id": "ccIgrnzMlK7g",
    "outputId": "661e42b2-f717-4485-8c89-8b2915e3859f",
    "scrolled": false
   },
   "outputs": [
    {
     "name": "stderr",
     "output_type": "stream",
     "text": [
      "/tmp/ipykernel_17402/2013041522.py:2: UserWarning: \n",
      "\n",
      "`distplot` is a deprecated function and will be removed in seaborn v0.14.0.\n",
      "\n",
      "Please adapt your code to use either `displot` (a figure-level function with\n",
      "similar flexibility) or `histplot` (an axes-level function for histograms).\n",
      "\n",
      "For a guide to updating your code to use the new functions, please see\n",
      "https://gist.github.com/mwaskom/de44147ed2974457ad6372750bbe5751\n",
      "\n",
      "  sns.distplot(x=df['height'])\n"
     ]
    },
    {
     "data": {
      "text/plain": [
       "<Axes: ylabel='Density'>"
      ]
     },
     "execution_count": 11,
     "metadata": {},
     "output_type": "execute_result"
    },
    {
     "data": {
      "image/png": "[encoded data removed]",
      "text/plain": [
       "<Figure size 1200x400 with 1 Axes>"
      ]
     },
     "metadata": {},
     "output_type": "display_data"
    }
   ],
   "source": [
    "plt.figure(figsize=(12,4))\n",
    "sns.distplot(x=df['height'])"
   ]
  },
  {
   "cell_type": "markdown",
   "metadata": {},
   "source": [
    "### Height Outliers"
   ]
  },
  {
   "cell_type": "code",
   "execution_count": 12,
   "metadata": {
    "colab": {
     "base_uri": "https://localhost:8080/",
     "height": 405
    },
    "id": "Prc7Cc9alXES",
    "outputId": "534cb472-c763-49fd-8f31-2563f4527cfe"
   },
   "outputs": [
    {
     "data": {
      "text/plain": [
       "<Axes: xlabel='Height', ylabel='Estimated Outliers Distribution'>"
      ]
     },
     "execution_count": 12,
     "metadata": {},
     "output_type": "execute_result"
    },
    {
     "data": {
      "image/png": "[encoded data removed]",
      "text/plain": [
       "<Figure size 1200x400 with 1 Axes>"
      ]
     },
     "metadata": {},
     "output_type": "display_data"
    }
   ],
   "source": [
    "plt.figure(figsize=(12,4))\n",
    "plt.ylabel(\"Estimated Outliers Distribution\")\n",
    "plt.xlabel(\"Height\")\n",
    "sns.boxplot(df['height'],orient='h')"
   ]
  },
  {
   "cell_type": "markdown",
   "metadata": {},
   "source": [
    "### Weight Distribution"
   ]
  },
  {
   "cell_type": "code",
   "execution_count": 13,
   "metadata": {
    "colab": {
     "base_uri": "https://localhost:8080/",
     "height": 576
    },
    "id": "BQbxxxHKlLgJ",
    "outputId": "0b358011-9cdd-4431-c0b9-cbd9b449bbeb"
   },
   "outputs": [
    {
     "name": "stderr",
     "output_type": "stream",
     "text": [
      "/tmp/ipykernel_17402/3552944591.py:2: UserWarning: \n",
      "\n",
      "`distplot` is a deprecated function and will be removed in seaborn v0.14.0.\n",
      "\n",
      "Please adapt your code to use either `displot` (a figure-level function with\n",
      "similar flexibility) or `histplot` (an axes-level function for histograms).\n",
      "\n",
      "For a guide to updating your code to use the new functions, please see\n",
      "https://gist.github.com/mwaskom/de44147ed2974457ad6372750bbe5751\n",
      "\n",
      "  sns.distplot(x=df['weight'])\n"
     ]
    },
    {
     "data": {
      "text/plain": [
       "<Axes: ylabel='Density'>"
      ]
     },
     "execution_count": 13,
     "metadata": {},
     "output_type": "execute_result"
    },
    {
     "data": {
      "image/png": "[encoded data removed]",
      "text/plain": [
       "<Figure size 1200x400 with 1 Axes>"
      ]
     },
     "metadata": {},
     "output_type": "display_data"
    }
   ],
   "source": [
    "plt.figure(figsize=(12,4))\n",
    "sns.distplot(x=df['weight'])"
   ]
  },
  {
   "cell_type": "markdown",
   "metadata": {},
   "source": [
    "### Weight Outliers"
   ]
  },
  {
   "cell_type": "code",
   "execution_count": 14,
   "metadata": {
    "colab": {
     "base_uri": "https://localhost:8080/",
     "height": 405
    },
    "id": "S3TCPvMawvHd",
    "outputId": "3e880a9a-f1b4-43f1-c331-d2030381a13e"
   },
   "outputs": [
    {
     "data": {
      "text/plain": [
       "<Axes: xlabel='Weight', ylabel='Estimated Outliers Distribution'>"
      ]
     },
     "execution_count": 14,
     "metadata": {},
     "output_type": "execute_result"
    },
    {
     "data": {
      "image/png": "[encoded data removed]",
      "text/plain": [
       "<Figure size 1200x400 with 1 Axes>"
      ]
     },
     "metadata": {},
     "output_type": "display_data"
    }
   ],
   "source": [
    "plt.figure(figsize=(12,4))\n",
    "plt.ylabel(\"Estimated Outliers Distribution\")\n",
    "plt.xlabel('Weight')\n",
    "sns.boxplot(df['weight'],orient='h')"
   ]
  },
  {
   "cell_type": "markdown",
   "metadata": {},
   "source": [
    "## Exloring Gender column"
   ]
  },
  {
   "cell_type": "markdown",
   "metadata": {},
   "source": [
    "By average height of gender catgorical values (1,2) we found out that <b>1:Woman, 2:Man</b>.<br>\n",
    "Because average height of men are greater than women."
   ]
  },
  {
   "cell_type": "code",
   "execution_count": 15,
   "metadata": {},
   "outputs": [
    {
     "name": "stdout",
     "output_type": "stream",
     "text": [
      "Women :\n",
      " height    161.355612\n",
      "weight     72.565605\n",
      "dtype: float64\n",
      "Men :\n",
      " height    169.947895\n",
      "weight     77.257307\n",
      "dtype: float64 \n",
      "\n",
      "Percentage of Men and Women\n",
      "1 for Women and 2 for men :\n",
      "1    65.042857\n",
      "2    34.957143\n",
      "Name: gender, dtype: float64\n"
     ]
    }
   ],
   "source": [
    "print(\"Women :\\n\",df[df['gender']==1][['height','weight']].mean())\n",
    "print(\"Men :\\n\",df[df['gender']==2][['height','weight']].mean(),'\\n')\n",
    "print('Percentage of Men and Women\\n1 for Women and 2 for men :')\n",
    "print(df['gender'].value_counts()/df['gender'].count()*100)"
   ]
  },
  {
   "cell_type": "code",
   "execution_count": 128,
   "metadata": {},
   "outputs": [
    {
     "data": {
      "image/png": "[encoded data removed]",
      "text/plain": [
       "<Figure size 1200x400 with 2 Axes>"
      ]
     },
     "metadata": {},
     "output_type": "display_data"
    }
   ],
   "source": [
    "f,axes = plt.subplots(1,2)\n",
    "\n",
    "plt.rcParams[\"figure.figsize\"] = [12.00, 4.00]\n",
    "plt.rcParams[\"figure.autolayout\"] = True\n",
    "sns.barplot(x=df['gender'],y=df['height'],ax=axes[0])\n",
    "sns.countplot(x=df['gender'],ax=axes[1])\n",
    "plt.show()"
   ]
  },
  {
   "cell_type": "markdown",
   "metadata": {},
   "source": [
    "In dataset <b>value count of women are greater than men</b>."
   ]
  },
  {
   "cell_type": "markdown",
   "metadata": {},
   "source": [
    "## Checking varibles which affects cardio"
   ]
  },
  {
   "cell_type": "markdown",
   "metadata": {},
   "source": [
    "by checking cholesterol and glucose level count with respect to the cardio,<br>we found out that those who has normal cholesterol and glucose have slightly lower chance of cardio disease,<br>while those has heigher cholesterol and glucose have slightly heigher chance of disease."
   ]
  },
  {
   "cell_type": "code",
   "execution_count": 17,
   "metadata": {},
   "outputs": [
    {
     "data": {
      "image/png": "[encoded data removed]",
      "text/plain": [
       "<Figure size 1200x400 with 3 Axes>"
      ]
     },
     "metadata": {},
     "output_type": "display_data"
    }
   ],
   "source": [
    "f,axes = plt.subplots(1,3)\n",
    "\n",
    "sns.countplot(x='cholesterol',hue='cardio',data=df,ax=axes[0])\n",
    "sns.countplot(x='gluc',hue='cardio',data=df,ax=axes[1])\n",
    "sns.countplot(x=df['cholesterol'],hue=df['gluc'],ax=axes[2])\n",
    "plt.show()"
   ]
  },
  {
   "cell_type": "markdown",
   "metadata": {},
   "source": [
    "### Correlation between Cholesterol and Glucose levels"
   ]
  },
  {
   "cell_type": "code",
   "execution_count": 18,
   "metadata": {},
   "outputs": [
    {
     "data": {
      "text/plain": [
       "<Axes: >"
      ]
     },
     "execution_count": 18,
     "metadata": {},
     "output_type": "execute_result"
    },
    {
     "data": {
      "image/png": "[encoded data removed]",
      "text/plain": [
       "<Figure size 300x100 with 2 Axes>"
      ]
     },
     "metadata": {},
     "output_type": "display_data"
    }
   ],
   "source": [
    "plt.figure(figsize=(3,1))\n",
    "sns.heatmap(df[['cholesterol','gluc']].corr(),annot=True,fmt='.1%',cmap=\"YlGnBu\")"
   ]
  },
  {
   "cell_type": "markdown",
   "metadata": {},
   "source": [
    "## Finding outliers in ap_hi and ap_lo using boxplot"
   ]
  },
  {
   "cell_type": "code",
   "execution_count": 19,
   "metadata": {
    "colab": {
     "base_uri": "https://localhost:8080/",
     "height": 405
    },
    "id": "Ihd2LMN1-o2I",
    "outputId": "7e5fd0dc-810b-469a-9f71-044ae22ebbd8"
   },
   "outputs": [
    {
     "data": {
      "text/plain": [
       "<Axes: xlabel='Systolic Blood Pressure', ylabel='Estimated Outliers Distribution'>"
      ]
     },
     "execution_count": 19,
     "metadata": {},
     "output_type": "execute_result"
    },
    {
     "data": {
      "image/png": "[encoded data removed]",
      "text/plain": [
       "<Figure size 1200x400 with 1 Axes>"
      ]
     },
     "metadata": {},
     "output_type": "display_data"
    }
   ],
   "source": [
    "plt.figure(figsize=(12,4))\n",
    "plt.ylabel(\"Estimated Outliers Distribution\")\n",
    "plt.xlabel('Systolic Blood Pressure')\n",
    "sns.boxplot(df['ap_hi'],orient='h')"
   ]
  },
  {
   "cell_type": "code",
   "execution_count": 20,
   "metadata": {
    "colab": {
     "base_uri": "https://localhost:8080/",
     "height": 405
    },
    "id": "RwEsUhUQ9MXq",
    "outputId": "79dac697-ba94-4b16-8972-2e91c0f51c67"
   },
   "outputs": [
    {
     "data": {
      "text/plain": [
       "<Axes: xlabel='Systolic Blood Pressure', ylabel='Estimated Outliers Distribution'>"
      ]
     },
     "execution_count": 20,
     "metadata": {},
     "output_type": "execute_result"
    },
    {
     "data": {
      "image/png": "[encoded data removed]",
      "text/plain": [
       "<Figure size 1200x400 with 1 Axes>"
      ]
     },
     "metadata": {},
     "output_type": "display_data"
    }
   ],
   "source": [
    "plt.figure(figsize=(12,4))\n",
    "plt.ylabel(\"Estimated Outliers Distribution\")\n",
    "plt.xlabel('Systolic Blood Pressure')\n",
    "sns.boxplot(df['ap_lo'],orient='h')"
   ]
  },
  {
   "cell_type": "markdown",
   "metadata": {
    "id": "i-r88xJ6BNZU"
   },
   "source": [
    "# Cleaning of data"
   ]
  },
  {
   "cell_type": "markdown",
   "metadata": {},
   "source": [
    "## Checking and removing duplicate row values"
   ]
  },
  {
   "cell_type": "code",
   "execution_count": 21,
   "metadata": {
    "colab": {
     "base_uri": "https://localhost:8080/"
    },
    "id": "TTui9vtFnraC",
    "outputId": "785b6067-3c14-4bdb-9dfa-d2182b7c6a31"
   },
   "outputs": [
    {
     "data": {
      "text/plain": [
       "24"
      ]
     },
     "execution_count": 21,
     "metadata": {},
     "output_type": "execute_result"
    }
   ],
   "source": [
    "sum(df.duplicated())"
   ]
  },
  {
   "cell_type": "code",
   "execution_count": 22,
   "metadata": {
    "colab": {
     "base_uri": "https://localhost:8080/"
    },
    "id": "eJ9zt07vvDsF",
    "outputId": "b622c268-5847-44c7-96d7-678d0c670e7b"
   },
   "outputs": [
    {
     "data": {
      "text/plain": [
       "0"
      ]
     },
     "execution_count": 22,
     "metadata": {},
     "output_type": "execute_result"
    }
   ],
   "source": [
    "#removing duplicate values\n",
    "df = df.drop_duplicates()\n",
    "sum(df.duplicated())"
   ]
  },
  {
   "cell_type": "markdown",
   "metadata": {
    "id": "sneba3jd-ofU"
   },
   "source": [
    "## Removing outliers form the systolic, dystolic blood pressure ap_hi, ap_lo"
   ]
  },
  {
   "cell_type": "markdown",
   "metadata": {
    "id": "GgDbAdUDU3wK"
   },
   "source": [
    "Highest recorded blood pressure is <b>390/360</b> in 1995. But systolic pressure above 180 mm Hg and dystolic pressure above 100 implies a critical medical condition.\n",
    "So we range it between <b>240/140</b> is extremly high condition called <b>hypertension</b> which is a medical emergency.\n",
    "\n",
    "<b>Lowest</b> recorded <b>blood pressure</b> is <b>90/60</b> causes a condition called <b>Hypotension</b>.\n",
    "\n",
    "Highest <b>ap_hi</b> is <b>240</b> and Lowest <b>ap_hi</b> is <b>90</b>.\n",
    "<br>\n",
    "highest <b>ap_lo</b> is <b>140</b> and Lowest <b>ap_lo</b> is <b>60</b>.<br>\n",
    "Values outside of these limits are considered as outliers."
   ]
  },
  {
   "cell_type": "markdown",
   "metadata": {},
   "source": [
    "### Removing outliers from ap_hi"
   ]
  },
  {
   "cell_type": "code",
   "execution_count": 23,
   "metadata": {
    "colab": {
     "base_uri": "https://localhost:8080/"
    },
    "id": "kxnV9SjISAVk",
    "outputId": "3fa86ad0-aac4-45c0-d609-4abaed48ab13"
   },
   "outputs": [
    {
     "data": {
      "text/plain": [
       "count    69976.000000\n",
       "mean       128.820453\n",
       "std        154.037729\n",
       "min       -150.000000\n",
       "25%        120.000000\n",
       "50%        120.000000\n",
       "75%        140.000000\n",
       "max      16020.000000\n",
       "Name: ap_hi, dtype: float64"
      ]
     },
     "execution_count": 23,
     "metadata": {},
     "output_type": "execute_result"
    }
   ],
   "source": [
    "# Checking mean, median, min and max value of ap_hi before cleaning\n",
    "df['ap_hi'].describe()"
   ]
  },
  {
   "cell_type": "code",
   "execution_count": 24,
   "metadata": {
    "colab": {
     "base_uri": "https://localhost:8080/"
    },
    "id": "s6o1nobQ98Y8",
    "outputId": "0b06b005-1490-461d-f1bf-5de05312356c"
   },
   "outputs": [
    {
     "data": {
      "text/plain": [
       "array([  110,   140,   130,   150,   100,   120,   145,   170,   135,\n",
       "         125,    90,   180,   160,   133,   190,    80,   122,   169,\n",
       "         126,   158,   200,    14,   123,    70,   161,   147,   115,\n",
       "         137,   153,    11,   148,   105,   220,   119,   141,   165,\n",
       "         164,    12,   124,   172,   902,   162,   906,   117,   134,\n",
       "         166,   210,   176,   116,    10,   121,    16,   112,   159,\n",
       "         113,   118,   155,   142,   131,   157,   136,   146,   138,\n",
       "        -100,   909,   109,    85,   106,   129,    93,     7,    95,\n",
       "         179,   156,   168,   132,   104,   103,   178,   175,   128,\n",
       "         151,    15,   139, 11500,   127,    17,   108,   144,   102,\n",
       "           1,  1420,    13,   143,   701,   107,   184,   149,   167,\n",
       "         114,   101,    60,  1500,   181,   171,   202,  -115,   111,\n",
       "         907,    20,   188,   185,   163,   173,   154,   177,  -140,\n",
       "         174,  -120, 14020,  1400,   240,   191,   197,  1620,   152,\n",
       "          96,   199,  -150,  1130,   193,    99,   196,   309,   401,\n",
       "       16020,  1202,   806,  1300,   230,   207,   215,    97,  1409,\n",
       "       11020,    24,   960, 13010,  1110,   195,  1205,   187,  2000])"
      ]
     },
     "execution_count": 24,
     "metadata": {},
     "output_type": "execute_result"
    }
   ],
   "source": [
    "# Checking unique values.\n",
    "df['ap_hi'].unique()"
   ]
  },
  {
   "cell_type": "code",
   "execution_count": 25,
   "metadata": {
    "colab": {
     "base_uri": "https://localhost:8080/"
    },
    "id": "F7q9j4EaNkRY",
    "outputId": "8a2c485a-fa7b-4caa-ea9d-86214bf6da79"
   },
   "outputs": [
    {
     "data": {
      "text/plain": [
       "array([  110,   140,   130,   150,   100,   120,   145,   170,   135,\n",
       "         125,    90,   180,   160,   133,   190,    80,   122,   169,\n",
       "         126,   158,   200,    14,   123,    70,   161,   147,   115,\n",
       "         137,   153,    11,   148,   105,   220,   119,   141,   165,\n",
       "         164,    12,   124,   172,   902,   162,   906,   117,   134,\n",
       "         166,   210,   176,   116,    10,   121,    16,   112,   159,\n",
       "         113,   118,   155,   142,   131,   157,   136,   146,   138,\n",
       "         909,   109,    85,   106,   129,    93,     7,    95,   179,\n",
       "         156,   168,   132,   104,   103,   178,   175,   128,   151,\n",
       "          15,   139, 11500,   127,    17,   108,   144,   102,     1,\n",
       "        1420,    13,   143,   701,   107,   184,   149,   167,   114,\n",
       "         101,    60,  1500,   181,   171,   202,   111,   907,    20,\n",
       "         188,   185,   163,   173,   154,   177,   174, 14020,  1400,\n",
       "         240,   191,   197,  1620,   152,    96,   199,  1130,   193,\n",
       "          99,   196,   309,   401, 16020,  1202,   806,  1300,   230,\n",
       "         207,   215,    97,  1409, 11020,    24,   960, 13010,  1110,\n",
       "         195,  1205,   187,  2000])"
      ]
     },
     "execution_count": 25,
     "metadata": {},
     "output_type": "execute_result"
    }
   ],
   "source": [
    "# Removing negative values\n",
    "df['ap_hi'] = df['ap_hi'].abs()\n",
    "df['ap_hi'].unique()"
   ]
  },
  {
   "cell_type": "code",
   "execution_count": 26,
   "metadata": {
    "colab": {
     "base_uri": "https://localhost:8080/"
    },
    "id": "eIXjPAJnSBAA",
    "outputId": "b63fe17f-5cf3-4bff-90c0-e20b48b35bb6"
   },
   "outputs": [
    {
     "name": "stdout",
     "output_type": "stream",
     "text": [
      "ap_hi is greater than 240 is:  40\n",
      "ap_hi is less than 90 is:  314\n"
     ]
    }
   ],
   "source": [
    "# Cheking no. of outlier ap_hi containing for both upper and lower limit.\n",
    "print(\"ap_hi is greater than 240 is: \",sum(df['ap_hi']>240))\n",
    "print(\"ap_hi is less than 90 is: \",sum(df['ap_hi']<90))"
   ]
  },
  {
   "cell_type": "markdown",
   "metadata": {},
   "source": [
    "we requires a two <b>functions</b> first <b>to reduce the no. of digits to 2 or 3</b>.<br>\n",
    "Suppose a <b>value 13010 or 14020</b> from ap_hi or ap_lo, <b>it could be 130 or 140</b>.<br>\n",
    "The second fuction <b>to reduce one digit from values that are under 1000 and greater than 250</b> (greater than highest limit in both ap_hi and ap_lo).<br>\n",
    "Suppose a <b>value 907 or 806</b> from ap_hi or ap_lo, <b>it could be 90 or 80</b>."
   ]
  },
  {
   "cell_type": "code",
   "execution_count": 27,
   "metadata": {
    "id": "9OR0igMIN5ct"
   },
   "outputs": [],
   "source": [
    "def digit_reducer(x):\n",
    "  \"\"\"fuction used to reduce the number of digits to 2 or 3.\"\"\"\n",
    "  if (np.log10(x)>=4):\n",
    "    return(x//100)\n",
    "  elif (np.log10(x)>=3):\n",
    "    return(x//10)\n",
    "  elif ((np.log10(x)<2) & (x<30)):\n",
    "    return(x*10)\n",
    "  else:\n",
    "    return x\n",
    "\n",
    "def upper_hand(x):\n",
    "  \"\"\"function used to reduce one digit if data is greater than upper_bound\"\"\"\n",
    "  if ((x>250)&(x<1000)):\n",
    "    return(x//10)\n",
    "  else:\n",
    "    return x"
   ]
  },
  {
   "cell_type": "code",
   "execution_count": 28,
   "metadata": {
    "colab": {
     "base_uri": "https://localhost:8080/"
    },
    "id": "2QMVyBDSR0b4",
    "outputId": "968c52e7-9024-4e6b-c4d3-a92bea0df1e1"
   },
   "outputs": [
    {
     "data": {
      "text/plain": [
       "array([110, 140, 130, 150, 100, 120, 145, 170, 135, 125,  90, 180, 160,\n",
       "       133, 190,  80, 122, 169, 126, 158, 200, 123,  70, 161, 147, 115,\n",
       "       137, 153, 148, 105, 220, 119, 141, 165, 164, 124, 172, 162, 117,\n",
       "       134, 166, 210, 176, 116, 121, 112, 159, 113, 118, 155, 142, 131,\n",
       "       157, 136, 146, 138, 109,  85, 106, 129,  93,  95, 179, 156, 168,\n",
       "       132, 104, 103, 178, 175, 128, 151, 139, 127, 108, 144, 102,  10,\n",
       "       143, 107, 184, 149, 167, 114, 101,  60, 181, 171, 202, 111, 188,\n",
       "       185, 163, 173, 154, 177, 174, 240, 191, 197, 152,  96, 199, 193,\n",
       "        99, 196,  30,  40, 230, 207, 215,  97, 195, 187])"
      ]
     },
     "execution_count": 28,
     "metadata": {},
     "output_type": "execute_result"
    }
   ],
   "source": [
    "# applying both fuctions to dataset's ap_hi column.\n",
    "df['ap_hi'] = df['ap_hi'].apply(digit_reducer)\n",
    "df['ap_hi'] = df['ap_hi'].apply(upper_hand)\n",
    "df['ap_hi'].unique()"
   ]
  },
  {
   "cell_type": "code",
   "execution_count": 29,
   "metadata": {
    "colab": {
     "base_uri": "https://localhost:8080/"
    },
    "id": "Vb1k3aMOZ_O6",
    "outputId": "f4f32e67-21dd-4eb1-d6e2-dd033e5ecf48"
   },
   "outputs": [
    {
     "name": "stdout",
     "output_type": "stream",
     "text": [
      "ap_hi is greater than 240 is:  0\n",
      "ap_hi is less than 90 is:  140\n"
     ]
    }
   ],
   "source": [
    "# These are values are considered as true outliers.\n",
    "print(\"ap_hi is greater than 240 is: \",sum(df['ap_hi']>240))\n",
    "print(\"ap_hi is less than 90 is: \",sum(df['ap_hi']<90))"
   ]
  },
  {
   "cell_type": "code",
   "execution_count": 30,
   "metadata": {
    "id": "yIzELqDyccDA"
   },
   "outputs": [],
   "source": [
    "# taking dataframe which has values in between 80,240(lower and upper bound)\n",
    "df = df[df['ap_hi'].between(80,240)]"
   ]
  },
  {
   "cell_type": "code",
   "execution_count": 31,
   "metadata": {
    "colab": {
     "base_uri": "https://localhost:8080/"
    },
    "id": "XxuPz_FEd0Uv",
    "outputId": "580fa5c8-8ca1-41f7-efe2-18685a4bd78d"
   },
   "outputs": [
    {
     "data": {
      "text/plain": [
       "count    69951.000000\n",
       "mean       127.017727\n",
       "std         17.090752\n",
       "min         80.000000\n",
       "25%        120.000000\n",
       "50%        120.000000\n",
       "75%        140.000000\n",
       "max        240.000000\n",
       "Name: ap_hi, dtype: float64"
      ]
     },
     "execution_count": 31,
     "metadata": {},
     "output_type": "execute_result"
    }
   ],
   "source": [
    "# Checking mean, min and max value of ap_hi after dealing with outliers.\n",
    "df['ap_hi'].describe()"
   ]
  },
  {
   "cell_type": "markdown",
   "metadata": {
    "id": "qHtum0zOfZzh"
   },
   "source": [
    "### Removing outliers ap_lo"
   ]
  },
  {
   "cell_type": "code",
   "execution_count": 32,
   "metadata": {
    "colab": {
     "base_uri": "https://localhost:8080/"
    },
    "id": "8kpD7__Xfn1r",
    "outputId": "daeb4df0-1668-43fa-ab7a-612c732a3236"
   },
   "outputs": [
    {
     "data": {
      "text/plain": [
       "count    69951.000000\n",
       "mean        96.583437\n",
       "std        188.311072\n",
       "min        -70.000000\n",
       "25%         80.000000\n",
       "50%         80.000000\n",
       "75%         90.000000\n",
       "max      11000.000000\n",
       "Name: ap_lo, dtype: float64"
      ]
     },
     "execution_count": 32,
     "metadata": {},
     "output_type": "execute_result"
    }
   ],
   "source": [
    "# Checking mean, min and max value of ap_lo before cleaning\n",
    "df['ap_lo'].describe()"
   ]
  },
  {
   "cell_type": "code",
   "execution_count": 33,
   "metadata": {
    "colab": {
     "base_uri": "https://localhost:8080/"
    },
    "id": "64XXozoUft-M",
    "outputId": "a68ca08d-59e3-44e8-a655-4c28efc3146d"
   },
   "outputs": [
    {
     "data": {
      "text/plain": [
       "array([   80,    90,    70,   100,    60,    85,    89,   110,    65,\n",
       "          63,    79,  1100,  1000,   800,   120,    50,    30,   109,\n",
       "          84,  1033,   150,    91,    40,    73,    78,    75,    86,\n",
       "          87,  1001,    82,    95,    69,    74,    97,    81,  1200,\n",
       "          83,   119,     0,    93,   105, 10000,    99,    77,    59,\n",
       "        8044,   140,    92,  1044,   108,   125,   115,    68,    61,\n",
       "         106,   102,    94,    66,    52,   170,    76,   160,    62,\n",
       "          96,   130,   113,    67,  9100,    10,    88,   902,     8,\n",
       "         112,   104,    71,    72,  1008,    98,    20,   802,  8000,\n",
       "        1022,   850,   708,    57,   101,  9011,  1011,    64,  1007,\n",
       "        1177,  7100,    45,   709,  8500,    58,  1110,  8099,  1088,\n",
       "         126,  1077,  1120,     7,   103,  1125,   180,   121,  8100,\n",
       "         710,  5700,  8079,  1111,  1003,     6,  1900,   809,   114,\n",
       "         801,  1002,    53,   111,     1,   118,    56,   182,   810,\n",
       "           9,  7099, 11000,  9800,  8200,  1139,   107,   820,    55,\n",
       "        1400,   190,   900,   122,  6800,   135,   700,  1101,   910,\n",
       "        1140,  1211,   -70,    54,  8077,   901,   880,   870,   585,\n",
       "          49,   602])"
      ]
     },
     "execution_count": 33,
     "metadata": {},
     "output_type": "execute_result"
    }
   ],
   "source": [
    "# Checking unique values.\n",
    "df['ap_lo'].unique()"
   ]
  },
  {
   "cell_type": "code",
   "execution_count": 34,
   "metadata": {
    "colab": {
     "base_uri": "https://localhost:8080/"
    },
    "id": "7gawXj2Yf_Ql",
    "outputId": "3fea0807-ee76-4faf-a19e-90be107057cc"
   },
   "outputs": [
    {
     "data": {
      "text/plain": [
       "array([   80,    90,    70,   100,    60,    85,    89,   110,    65,\n",
       "          63,    79,  1100,  1000,   800,   120,    50,    30,   109,\n",
       "          84,  1033,   150,    91,    40,    73,    78,    75,    86,\n",
       "          87,  1001,    82,    95,    69,    74,    97,    81,  1200,\n",
       "          83,   119,     0,    93,   105, 10000,    99,    77,    59,\n",
       "        8044,   140,    92,  1044,   108,   125,   115,    68,    61,\n",
       "         106,   102,    94,    66,    52,   170,    76,   160,    62,\n",
       "          96,   130,   113,    67,  9100,    10,    88,   902,     8,\n",
       "         112,   104,    71,    72,  1008,    98,    20,   802,  8000,\n",
       "        1022,   850,   708,    57,   101,  9011,  1011,    64,  1007,\n",
       "        1177,  7100,    45,   709,  8500,    58,  1110,  8099,  1088,\n",
       "         126,  1077,  1120,     7,   103,  1125,   180,   121,  8100,\n",
       "         710,  5700,  8079,  1111,  1003,     6,  1900,   809,   114,\n",
       "         801,  1002,    53,   111,     1,   118,    56,   182,   810,\n",
       "           9,  7099, 11000,  9800,  8200,  1139,   107,   820,    55,\n",
       "        1400,   190,   900,   122,  6800,   135,   700,  1101,   910,\n",
       "        1140,  1211,    54,  8077,   901,   880,   870,   585,    49,\n",
       "         602])"
      ]
     },
     "execution_count": 34,
     "metadata": {},
     "output_type": "execute_result"
    }
   ],
   "source": [
    "# Removing negative values\n",
    "df[\"ap_lo\"]=df[\"ap_lo\"].abs()\n",
    "df[\"ap_lo\"].unique()"
   ]
  },
  {
   "cell_type": "code",
   "execution_count": 35,
   "metadata": {
    "colab": {
     "base_uri": "https://localhost:8080/"
    },
    "id": "Gy7uMmhegENj",
    "outputId": "cc3d25b4-0de5-4115-f07a-1ee7688e938a"
   },
   "outputs": [
    {
     "name": "stdout",
     "output_type": "stream",
     "text": [
      "ap_lo is greater than 140 is:  980\n",
      "ap_lo is less than 60 is:  167\n"
     ]
    }
   ],
   "source": [
    "# Cheking no. of outlier ap_lo containing for both upper and lower limit.\n",
    "print(\"ap_lo is greater than 140 is: \",sum(df['ap_lo']>140))\n",
    "print(\"ap_lo is less than 60 is: \",sum(df['ap_lo']<60))"
   ]
  },
  {
   "cell_type": "code",
   "execution_count": 36,
   "metadata": {
    "colab": {
     "base_uri": "https://localhost:8080/"
    },
    "id": "Cce47FyKgYj7",
    "outputId": "baa85860-7730-4787-ce92-5b94f43814fb"
   },
   "outputs": [
    {
     "data": {
      "text/plain": [
       "20"
      ]
     },
     "execution_count": 36,
     "metadata": {},
     "output_type": "execute_result"
    }
   ],
   "source": [
    "#checking 0 values.\n",
    "sum(df['ap_lo']==0)"
   ]
  },
  {
   "cell_type": "code",
   "execution_count": 37,
   "metadata": {
    "colab": {
     "base_uri": "https://localhost:8080/"
    },
    "id": "JbiLnSNzgh2P",
    "outputId": "be63852f-5081-4e3b-ca9b-6ce1cc0b03ab"
   },
   "outputs": [
    {
     "data": {
      "text/plain": [
       "array([   80,    90,    70,   100,    60,    85,    89,   110,    65,\n",
       "          63,    79,  1100,  1000,   800,   120,    50,    30,   109,\n",
       "          84,  1033,   150,    91,    40,    73,    78,    75,    86,\n",
       "          87,  1001,    82,    95,    69,    74,    97,    81,  1200,\n",
       "          83,   119,    93,   105, 10000,    99,    77,    59,  8044,\n",
       "         140,    92,  1044,   108,   125,   115,    68,    61,   106,\n",
       "         102,    94,    66,    52,   170,    76,   160,    62,    96,\n",
       "         130,   113,    67,  9100,    10,    88,   902,     8,   112,\n",
       "         104,    71,    72,  1008,    98,    20,   802,  8000,  1022,\n",
       "         850,   708,    57,   101,  9011,  1011,    64,  1007,  1177,\n",
       "        7100,    45,   709,  8500,    58,  1110,  8099,  1088,   126,\n",
       "        1077,  1120,     7,   103,  1125,   180,   121,  8100,   710,\n",
       "        5700,  8079,  1111,  1003,     6,  1900,   809,   114,   801,\n",
       "        1002,    53,   111,     1,   118,    56,   182,   810,     9,\n",
       "        7099, 11000,  9800,  8200,  1139,   107,   820,    55,  1400,\n",
       "         190,   900,   122,  6800,   135,   700,  1101,   910,  1140,\n",
       "        1211,    54,  8077,   901,   880,   870,   585,    49,   602])"
      ]
     },
     "execution_count": 37,
     "metadata": {},
     "output_type": "execute_result"
    }
   ],
   "source": [
    "# Removing rows from dataset that contains 0 values in ap_lo\n",
    "df=df[df[\"ap_lo\"]!=0]\n",
    "df[\"ap_lo\"].unique()"
   ]
  },
  {
   "cell_type": "code",
   "execution_count": 38,
   "metadata": {
    "colab": {
     "base_uri": "https://localhost:8080/"
    },
    "id": "dM5wCxcYgl2J",
    "outputId": "94707fe2-55a7-4a3c-ab82-f2df3e0c5ced"
   },
   "outputs": [
    {
     "data": {
      "text/plain": [
       "count    69931.000000\n",
       "mean        96.613061\n",
       "std        188.329887\n",
       "min          1.000000\n",
       "25%         80.000000\n",
       "50%         80.000000\n",
       "75%         90.000000\n",
       "max      11000.000000\n",
       "Name: ap_lo, dtype: float64"
      ]
     },
     "execution_count": 38,
     "metadata": {},
     "output_type": "execute_result"
    }
   ],
   "source": [
    "# Checking mean, median, min and max\n",
    "df['ap_lo'].describe()"
   ]
  },
  {
   "cell_type": "code",
   "execution_count": 39,
   "metadata": {
    "colab": {
     "base_uri": "https://localhost:8080/"
    },
    "id": "pBomN6W0gyAy",
    "outputId": "4a29ba63-681f-4fca-94b7-cba942030ecb"
   },
   "outputs": [
    {
     "data": {
      "text/plain": [
       "array([ 80,  90,  70, 100,  60,  85,  89, 110,  65,  63,  79, 120,  50,\n",
       "        30, 109,  84, 103, 150,  91,  40,  73,  78,  75,  86,  87,  82,\n",
       "        95,  69,  74,  97,  81,  83, 119,  93, 105,  99,  77,  59, 140,\n",
       "        92, 104, 108, 125, 115,  68,  61, 106, 102,  94,  66,  52, 170,\n",
       "        76, 160,  62,  96, 130, 113,  67,  88, 112,  71,  72,  98, 200,\n",
       "        57, 101,  64, 117,  45,  58, 111, 126, 107, 180, 121, 190, 114,\n",
       "        53,  10, 118,  56, 182,  55, 122, 135,  54,  49])"
      ]
     },
     "execution_count": 39,
     "metadata": {},
     "output_type": "execute_result"
    }
   ],
   "source": [
    "# applying both functions to dataset's ap_lo column.\n",
    "df[\"ap_lo\"]=df[\"ap_lo\"].apply(digit_reducer)\n",
    "df['ap_lo'] = df['ap_lo'].apply(upper_hand)\n",
    "df[\"ap_lo\"].unique()"
   ]
  },
  {
   "cell_type": "code",
   "execution_count": 40,
   "metadata": {
    "colab": {
     "base_uri": "https://localhost:8080/"
    },
    "id": "VMTlrk0XiYP1",
    "outputId": "b73fa531-9eb8-4e5e-ab54-3457b30f9117"
   },
   "outputs": [
    {
     "name": "stdout",
     "output_type": "stream",
     "text": [
      "ap_lo is greater than 140 is:  47\n",
      "ap_lo is less than 60 is:  121\n"
     ]
    }
   ],
   "source": [
    "# These are values are considered as true outliers.\n",
    "print(\"ap_lo is greater than 140 is: \",sum(df['ap_lo']>140))\n",
    "print(\"ap_lo is less than 60 is: \",sum(df['ap_lo']<60))"
   ]
  },
  {
   "cell_type": "code",
   "execution_count": 41,
   "metadata": {
    "id": "x_aT3O7aih7Z"
   },
   "outputs": [],
   "source": [
    "df=df[df[\"ap_lo\"].between(60,140)]"
   ]
  },
  {
   "cell_type": "code",
   "execution_count": 42,
   "metadata": {
    "colab": {
     "base_uri": "https://localhost:8080/"
    },
    "id": "KADChAOqisJy",
    "outputId": "8dd4fcd1-076b-4184-f893-589a4b49f8a9"
   },
   "outputs": [
    {
     "data": {
      "text/plain": [
       "count    69763.000000\n",
       "mean        81.668148\n",
       "std          9.708219\n",
       "min         60.000000\n",
       "25%         80.000000\n",
       "50%         80.000000\n",
       "75%         90.000000\n",
       "max        140.000000\n",
       "Name: ap_lo, dtype: float64"
      ]
     },
     "execution_count": 42,
     "metadata": {},
     "output_type": "execute_result"
    }
   ],
   "source": [
    "# Checking mean, min and max value of ap_lo after dealing with outliers.\n",
    "df['ap_lo'].describe()"
   ]
  },
  {
   "cell_type": "code",
   "execution_count": 43,
   "metadata": {
    "colab": {
     "base_uri": "https://localhost:8080/"
    },
    "id": "MTD2Mzj2itNT",
    "outputId": "8c199502-119e-494c-ec3d-e50b9c8477a0"
   },
   "outputs": [
    {
     "data": {
      "text/plain": [
       "(69763, 12)"
      ]
     },
     "execution_count": 43,
     "metadata": {},
     "output_type": "execute_result"
    }
   ],
   "source": [
    "df.shape"
   ]
  },
  {
   "cell_type": "markdown",
   "metadata": {},
   "source": [
    "## Adding Pluse Pressure into dataset"
   ]
  },
  {
   "cell_type": "markdown",
   "metadata": {
    "id": "T9-QznAmjga2"
   },
   "source": [
    "<b>Pulse pressure is the difference between the upper and lower numbers of your blood pressure</b>.<br>\n",
    "It helps us to manage relationship between ap_hi and ap_lo.<br>\n",
    "<b>for example,</b> the <b>normal blood pressure is 120-80 mmHg</b>. The <b>pulse pressure of that is 40</b> which is also normal.<br>\n",
    "for outlier values <b>if ap_hi is less then ap_lo, then pulse pressure become negative</b> which is not possible,<br>or <b>if the difference is too high like if blood pressure 200-80 mmHg then pulse pressure become 120</b> which is not possible, then it also considered as outlier."
   ]
  },
  {
   "cell_type": "code",
   "execution_count": 44,
   "metadata": {
    "id": "AYFJl-dpjTlO"
   },
   "outputs": [],
   "source": [
    "# adding pulse pressure to dataset\n",
    "df['pulse_pressure'] = df['ap_hi']-df['ap_lo']"
   ]
  },
  {
   "cell_type": "markdown",
   "metadata": {
    "id": "hNxTvwFPKh48"
   },
   "source": [
    "A normal pulse pressure range is between 40 and 60 mm Hg.<br>\n",
    "<b>99.7%</b> of values are within\n",
    "<b>3 standard deviations</b> of the mean.The range with mean+ - 3 std is <b>10-80</b><br>.\n",
    "whereas a <b>pulse pressure</b> of greater than <b>100</b> is high or widened.<br>\n",
    "So we ranged the pluse pressure between <b>10 and 120 mm Hg</b>."
   ]
  },
  {
   "cell_type": "code",
   "execution_count": 45,
   "metadata": {
    "colab": {
     "base_uri": "https://localhost:8080/"
    },
    "id": "uw75kSI3IjNe",
    "outputId": "f60d99b1-ba28-4c8d-e16a-224cf046aea8"
   },
   "outputs": [
    {
     "name": "stdout",
     "output_type": "stream",
     "text": [
      "81.50752516745749\n",
      "9.242700596916187\n"
     ]
    }
   ],
   "source": [
    "# finding the normal range of pulse pressure in dataset using standard deviation mean + - 3*std.\n",
    "print(df['pulse_pressure'].mean() + (df['pulse_pressure'].std() * 3))\n",
    "print(df['pulse_pressure'].mean() - (df['pulse_pressure'].std() * 3))"
   ]
  },
  {
   "cell_type": "code",
   "execution_count": 46,
   "metadata": {
    "colab": {
     "base_uri": "https://localhost:8080/"
    },
    "id": "JcDGF9JvFBpO",
    "outputId": "13a15929-6b13-4033-bb01-f8ab5fa9c7fa"
   },
   "outputs": [
    {
     "name": "stdout",
     "output_type": "stream",
     "text": [
      "pulse pressure greater than 120 is:  11\n",
      "pulse pressure lower than 20 is:  76\n"
     ]
    }
   ],
   "source": [
    "# checking the no. of outliers in pulse_pressure.\n",
    "print('pulse pressure greater than 120 is: ',sum(df['pulse_pressure']>120))\n",
    "print('pulse pressure lower than 20 is: ',sum(df['pulse_pressure']<10))"
   ]
  },
  {
   "cell_type": "code",
   "execution_count": 47,
   "metadata": {
    "colab": {
     "base_uri": "https://localhost:8080/"
    },
    "id": "u-4kRSzmE7I8",
    "outputId": "f63adf90-c069-4807-9f7b-de7eb2474c98"
   },
   "outputs": [
    {
     "data": {
      "text/plain": [
       "count    69763.000000\n",
       "mean        45.375113\n",
       "std         12.044137\n",
       "min        -60.000000\n",
       "25%         40.000000\n",
       "50%         40.000000\n",
       "75%         50.000000\n",
       "max        140.000000\n",
       "Name: pulse_pressure, dtype: float64"
      ]
     },
     "execution_count": 47,
     "metadata": {},
     "output_type": "execute_result"
    }
   ],
   "source": [
    "# checking the mean, median, min, max in pulse pressure  before cleaning\n",
    "df['pulse_pressure'].describe()"
   ]
  },
  {
   "cell_type": "code",
   "execution_count": 48,
   "metadata": {
    "colab": {
     "base_uri": "https://localhost:8080/"
    },
    "id": "ZShF5N04jf43",
    "outputId": "7d6cab16-75bf-40ef-9985-85e93064f49b"
   },
   "outputs": [
    {
     "data": {
      "text/plain": [
       "array([ 30,  50,  60,  40,  45,  90,  35,  55,  70,  44, 100,  61,  57,\n",
       "        20,  10,  41,  80,  42,  47,  67,  43,  51,  88,  62,  63,  66,\n",
       "        65,  58,  76,  39,  59,  91,  85,  37,  31,  53,  72,  27,  73,\n",
       "        33, 110,  38,  71,  25, -60,  15,  36,  32,  34,  21, -45, -40,\n",
       "        18,  89,  49,  48, -50,  23,  97, -35,  75,  79,  52,  69,  56,\n",
       "        54,  46,  11,  78,  64,  68,  95, -10,  84, 130,  96,  81,  24,\n",
       "         0,  87,  94,  82, 120,  93, 121, 115,  77,  22,  98,  28,  83,\n",
       "        12,   5,   9, 108,  86,  -5,  17,  29,  74,  14, 101,  99, -20,\n",
       "       103, 107,  92, -30, 140, 105, -25, 135, 109, 106,  19])"
      ]
     },
     "execution_count": 48,
     "metadata": {},
     "output_type": "execute_result"
    }
   ],
   "source": [
    "# checking unique values\n",
    "df['pulse_pressure'].unique()"
   ]
  },
  {
   "cell_type": "code",
   "execution_count": 49,
   "metadata": {
    "colab": {
     "base_uri": "https://localhost:8080/",
     "height": 320
    },
    "id": "ymQ7XtxVGiEO",
    "outputId": "167c12a5-66f7-47c5-ab3f-01a142273a51"
   },
   "outputs": [
    {
     "data": {
      "text/html": [
       "<div>\n",
       "<style scoped>\n",
       "    .dataframe tbody tr th:only-of-type {\n",
       "        vertical-align: middle;\n",
       "    }\n",
       "\n",
       "    .dataframe tbody tr th {\n",
       "        vertical-align: top;\n",
       "    }\n",
       "\n",
       "    .dataframe thead th {\n",
       "        text-align: right;\n",
       "    }\n",
       "</style>\n",
       "<table border=\"1\" class=\"dataframe\">\n",
       "  <thead>\n",
       "    <tr style=\"text-align: right;\">\n",
       "      <th></th>\n",
       "      <th>age</th>\n",
       "      <th>gender</th>\n",
       "      <th>height</th>\n",
       "      <th>weight</th>\n",
       "      <th>ap_hi</th>\n",
       "      <th>ap_lo</th>\n",
       "      <th>cholesterol</th>\n",
       "      <th>gluc</th>\n",
       "      <th>smoke</th>\n",
       "      <th>alco</th>\n",
       "      <th>active</th>\n",
       "      <th>cardio</th>\n",
       "      <th>pulse_pressure</th>\n",
       "    </tr>\n",
       "  </thead>\n",
       "  <tbody>\n",
       "    <tr>\n",
       "      <th>count</th>\n",
       "      <td>69676.000000</td>\n",
       "      <td>69676.000000</td>\n",
       "      <td>69676.000000</td>\n",
       "      <td>69676.000000</td>\n",
       "      <td>69676.000000</td>\n",
       "      <td>69676.000000</td>\n",
       "      <td>69676.000000</td>\n",
       "      <td>69676.000000</td>\n",
       "      <td>69676.000000</td>\n",
       "      <td>69676.000000</td>\n",
       "      <td>69676.000000</td>\n",
       "      <td>69676.000000</td>\n",
       "      <td>69676.000000</td>\n",
       "    </tr>\n",
       "    <tr>\n",
       "      <th>mean</th>\n",
       "      <td>19470.108717</td>\n",
       "      <td>1.349676</td>\n",
       "      <td>164.362865</td>\n",
       "      <td>74.221231</td>\n",
       "      <td>127.075521</td>\n",
       "      <td>81.623586</td>\n",
       "      <td>1.366984</td>\n",
       "      <td>1.226376</td>\n",
       "      <td>0.088122</td>\n",
       "      <td>0.053548</td>\n",
       "      <td>0.803734</td>\n",
       "      <td>0.499756</td>\n",
       "      <td>45.451935</td>\n",
       "    </tr>\n",
       "    <tr>\n",
       "      <th>std</th>\n",
       "      <td>2467.066768</td>\n",
       "      <td>0.476871</td>\n",
       "      <td>8.210163</td>\n",
       "      <td>14.392999</td>\n",
       "      <td>16.958101</td>\n",
       "      <td>9.601007</td>\n",
       "      <td>0.680364</td>\n",
       "      <td>0.572173</td>\n",
       "      <td>0.283475</td>\n",
       "      <td>0.225125</td>\n",
       "      <td>0.397175</td>\n",
       "      <td>0.500004</td>\n",
       "      <td>11.677324</td>\n",
       "    </tr>\n",
       "    <tr>\n",
       "      <th>min</th>\n",
       "      <td>10798.000000</td>\n",
       "      <td>1.000000</td>\n",
       "      <td>55.000000</td>\n",
       "      <td>10.000000</td>\n",
       "      <td>80.000000</td>\n",
       "      <td>60.000000</td>\n",
       "      <td>1.000000</td>\n",
       "      <td>1.000000</td>\n",
       "      <td>0.000000</td>\n",
       "      <td>0.000000</td>\n",
       "      <td>0.000000</td>\n",
       "      <td>0.000000</td>\n",
       "      <td>10.000000</td>\n",
       "    </tr>\n",
       "    <tr>\n",
       "      <th>25%</th>\n",
       "      <td>17666.000000</td>\n",
       "      <td>1.000000</td>\n",
       "      <td>159.000000</td>\n",
       "      <td>65.000000</td>\n",
       "      <td>120.000000</td>\n",
       "      <td>80.000000</td>\n",
       "      <td>1.000000</td>\n",
       "      <td>1.000000</td>\n",
       "      <td>0.000000</td>\n",
       "      <td>0.000000</td>\n",
       "      <td>1.000000</td>\n",
       "      <td>0.000000</td>\n",
       "      <td>40.000000</td>\n",
       "    </tr>\n",
       "    <tr>\n",
       "      <th>50%</th>\n",
       "      <td>19704.000000</td>\n",
       "      <td>1.000000</td>\n",
       "      <td>165.000000</td>\n",
       "      <td>72.000000</td>\n",
       "      <td>120.000000</td>\n",
       "      <td>80.000000</td>\n",
       "      <td>1.000000</td>\n",
       "      <td>1.000000</td>\n",
       "      <td>0.000000</td>\n",
       "      <td>0.000000</td>\n",
       "      <td>1.000000</td>\n",
       "      <td>0.000000</td>\n",
       "      <td>40.000000</td>\n",
       "    </tr>\n",
       "    <tr>\n",
       "      <th>75%</th>\n",
       "      <td>21328.000000</td>\n",
       "      <td>2.000000</td>\n",
       "      <td>170.000000</td>\n",
       "      <td>82.000000</td>\n",
       "      <td>140.000000</td>\n",
       "      <td>90.000000</td>\n",
       "      <td>2.000000</td>\n",
       "      <td>1.000000</td>\n",
       "      <td>0.000000</td>\n",
       "      <td>0.000000</td>\n",
       "      <td>1.000000</td>\n",
       "      <td>1.000000</td>\n",
       "      <td>50.000000</td>\n",
       "    </tr>\n",
       "    <tr>\n",
       "      <th>max</th>\n",
       "      <td>23713.000000</td>\n",
       "      <td>2.000000</td>\n",
       "      <td>250.000000</td>\n",
       "      <td>200.000000</td>\n",
       "      <td>240.000000</td>\n",
       "      <td>140.000000</td>\n",
       "      <td>3.000000</td>\n",
       "      <td>3.000000</td>\n",
       "      <td>1.000000</td>\n",
       "      <td>1.000000</td>\n",
       "      <td>1.000000</td>\n",
       "      <td>1.000000</td>\n",
       "      <td>120.000000</td>\n",
       "    </tr>\n",
       "  </tbody>\n",
       "</table>\n",
       "</div>"
      ],
      "text/plain": [
       "                age        gender        height        weight         ap_hi  \\\n",
       "count  69676.000000  69676.000000  69676.000000  69676.000000  69676.000000   \n",
       "mean   19470.108717      1.349676    164.362865     74.221231    127.075521   \n",
       "std     2467.066768      0.476871      8.210163     14.392999     16.958101   \n",
       "min    10798.000000      1.000000     55.000000     10.000000     80.000000   \n",
       "25%    17666.000000      1.000000    159.000000     65.000000    120.000000   \n",
       "50%    19704.000000      1.000000    165.000000     72.000000    120.000000   \n",
       "75%    21328.000000      2.000000    170.000000     82.000000    140.000000   \n",
       "max    23713.000000      2.000000    250.000000    200.000000    240.000000   \n",
       "\n",
       "              ap_lo   cholesterol          gluc         smoke          alco  \\\n",
       "count  69676.000000  69676.000000  69676.000000  69676.000000  69676.000000   \n",
       "mean      81.623586      1.366984      1.226376      0.088122      0.053548   \n",
       "std        9.601007      0.680364      0.572173      0.283475      0.225125   \n",
       "min       60.000000      1.000000      1.000000      0.000000      0.000000   \n",
       "25%       80.000000      1.000000      1.000000      0.000000      0.000000   \n",
       "50%       80.000000      1.000000      1.000000      0.000000      0.000000   \n",
       "75%       90.000000      2.000000      1.000000      0.000000      0.000000   \n",
       "max      140.000000      3.000000      3.000000      1.000000      1.000000   \n",
       "\n",
       "             active        cardio  pulse_pressure  \n",
       "count  69676.000000  69676.000000    69676.000000  \n",
       "mean       0.803734      0.499756       45.451935  \n",
       "std        0.397175      0.500004       11.677324  \n",
       "min        0.000000      0.000000       10.000000  \n",
       "25%        1.000000      0.000000       40.000000  \n",
       "50%        1.000000      0.000000       40.000000  \n",
       "75%        1.000000      1.000000       50.000000  \n",
       "max        1.000000      1.000000      120.000000  "
      ]
     },
     "execution_count": 49,
     "metadata": {},
     "output_type": "execute_result"
    }
   ],
   "source": [
    "# assigning the rows to dataset which contains values in between lower and upper bound.\n",
    "df=df[df[\"pulse_pressure\"].between(10,120)]\n",
    "df.describe()"
   ]
  },
  {
   "cell_type": "markdown",
   "metadata": {},
   "source": [
    "## Dealing with Weight and Height Outliers"
   ]
  },
  {
   "cell_type": "markdown",
   "metadata": {},
   "source": [
    "### Dealing with weight oultiers"
   ]
  },
  {
   "cell_type": "code",
   "execution_count": 50,
   "metadata": {
    "colab": {
     "base_uri": "https://localhost:8080/"
    },
    "id": "yJ07UDx5VbXY",
    "outputId": "0b7793b7-1799-4366-a489-1ed37b364d76"
   },
   "outputs": [
    {
     "data": {
      "text/plain": [
       "count    69676.000000\n",
       "mean        74.221231\n",
       "std         14.392999\n",
       "min         10.000000\n",
       "25%         65.000000\n",
       "50%         72.000000\n",
       "75%         82.000000\n",
       "max        200.000000\n",
       "Name: weight, dtype: float64"
      ]
     },
     "execution_count": 50,
     "metadata": {},
     "output_type": "execute_result"
    }
   ],
   "source": [
    "# checking mean, median, min, max of weight before cleaning\n",
    "df['weight'].describe()"
   ]
  },
  {
   "cell_type": "code",
   "execution_count": 51,
   "metadata": {
    "colab": {
     "base_uri": "https://localhost:8080/"
    },
    "id": "Bd1jdh0OVqP1",
    "outputId": "4bb36a3a-56a6-4709-a2d7-226dec56362a"
   },
   "outputs": [
    {
     "name": "stdout",
     "output_type": "stream",
     "text": [
      "131.79322859713267\n",
      "31.04223302427863\n"
     ]
    }
   ],
   "source": [
    "# Setting upper and lower bounds using standard deviation (mean + - 3*std)\n",
    "# Weight normal distribution is slightly right skewed. So, upper bound = (mean + 4*std)\n",
    "weight_mean = df['weight'].mean()\n",
    "weight_std = df['weight'].std()\n",
    "weight_upper_outlier = weight_mean + (weight_std * 4)\n",
    "weight_lower_outlier = weight_mean - (weight_std * 3)\n",
    "print(weight_upper_outlier)\n",
    "print(weight_lower_outlier)"
   ]
  },
  {
   "cell_type": "code",
   "execution_count": 52,
   "metadata": {
    "colab": {
     "base_uri": "https://localhost:8080/"
    },
    "id": "wXrCowzUZglN",
    "outputId": "e0b48375-f17b-485e-e392-b4917c04df80"
   },
   "outputs": [
    {
     "name": "stdout",
     "output_type": "stream",
     "text": [
      "Number of Upper Outliers is: 189\n",
      "Number of Lower Outliers is: 11\n"
     ]
    }
   ],
   "source": [
    "# Checking the number of outliers in weight, both upper and lower\n",
    "print(\"Number of Upper Outliers is:\",sum(df[\"weight\"]>weight_upper_outlier))\n",
    "print(\"Number of Lower Outliers is:\",sum(df[\"weight\"]<weight_lower_outlier))"
   ]
  },
  {
   "cell_type": "code",
   "execution_count": 53,
   "metadata": {
    "id": "96E6WSziavrL"
   },
   "outputs": [],
   "source": [
    "# assigning the rows to dataset which contains values in between lower and upper bound.\n",
    "df = df[df['weight'].between(weight_lower_outlier,weight_upper_outlier)]"
   ]
  },
  {
   "cell_type": "markdown",
   "metadata": {
    "id": "SAAQUBxnrCuD"
   },
   "source": [
    "<b>Other ways to get the same result is:</b><br>\n",
    "<b>df[np.abs((df['weight']-weight_mean)/weight_std)<3]</b><br><br>\n",
    "<b>import scipy.stats as st</b> <br>\n",
    "<b>df[np.abs(st.zscore(df['weight']))<3]</b>"
   ]
  },
  {
   "cell_type": "code",
   "execution_count": 54,
   "metadata": {
    "colab": {
     "base_uri": "https://localhost:8080/"
    },
    "id": "wFBmu3y7qr51",
    "outputId": "699c123d-a67d-4475-dd71-f58f64d252b2"
   },
   "outputs": [
    {
     "data": {
      "text/plain": [
       "count    69476.000000\n",
       "mean        74.029744\n",
       "std         13.860114\n",
       "min         32.000000\n",
       "25%         65.000000\n",
       "50%         72.000000\n",
       "75%         82.000000\n",
       "max        131.000000\n",
       "Name: weight, dtype: float64"
      ]
     },
     "execution_count": 54,
     "metadata": {},
     "output_type": "execute_result"
    }
   ],
   "source": [
    "# checking weight discription after dealing with outliers\n",
    "df['weight'].describe()"
   ]
  },
  {
   "cell_type": "markdown",
   "metadata": {},
   "source": [
    "### Dealing with Height Outliers"
   ]
  },
  {
   "cell_type": "code",
   "execution_count": 55,
   "metadata": {
    "colab": {
     "base_uri": "https://localhost:8080/"
    },
    "id": "HEKQjk9VtYFC",
    "outputId": "d351f20d-c5e0-458d-99bc-8cda7b2ee664"
   },
   "outputs": [
    {
     "data": {
      "text/plain": [
       "count    69476.000000\n",
       "mean       164.358455\n",
       "std          8.166380\n",
       "min         55.000000\n",
       "25%        159.000000\n",
       "50%        165.000000\n",
       "75%        170.000000\n",
       "max        250.000000\n",
       "Name: height, dtype: float64"
      ]
     },
     "execution_count": 55,
     "metadata": {},
     "output_type": "execute_result"
    }
   ],
   "source": [
    "# checking mean, median, min, max of weight before cleaning\n",
    "df['height'].describe()"
   ]
  },
  {
   "cell_type": "code",
   "execution_count": 56,
   "metadata": {
    "colab": {
     "base_uri": "https://localhost:8080/"
    },
    "id": "TJctwRl1sjDM",
    "outputId": "2e91308f-1da8-4ffd-df83-3ccde0bb486f"
   },
   "outputs": [
    {
     "name": "stdout",
     "output_type": "stream",
     "text": [
      "188.85759420950717\n",
      "139.85931522684496\n"
     ]
    }
   ],
   "source": [
    "# Setting upper and lower bounds using standard deviation (mean + - 3*std)\n",
    "height_mean = df['height'].mean()\n",
    "height_std = df['height'].std()\n",
    "height_upper_outlier = height_mean + (height_std * 3)\n",
    "height_lower_outlier = height_mean - (height_std * 3)\n",
    "print(height_upper_outlier)\n",
    "print(height_lower_outlier)"
   ]
  },
  {
   "cell_type": "code",
   "execution_count": 57,
   "metadata": {},
   "outputs": [],
   "source": [
    "# It is possible for people to have height more than 188.So, I want to increase the limit of height_upper_outlier.\n",
    "height_upper_outlier = height_upper_outlier + 5"
   ]
  },
  {
   "cell_type": "code",
   "execution_count": 58,
   "metadata": {
    "colab": {
     "base_uri": "https://localhost:8080/"
    },
    "id": "4Gi1xcZDs9_O",
    "outputId": "96f6e77a-6883-4ee5-f06b-5470edc1d6c9"
   },
   "outputs": [
    {
     "name": "stdout",
     "output_type": "stream",
     "text": [
      "Number of Upper Outliers is: 34\n",
      "Number of Lower Outliers is: 139\n"
     ]
    }
   ],
   "source": [
    "# Checking the number of outliers in height, both upper and lower\n",
    "print(\"Number of Upper Outliers is:\",sum(df[\"height\"]>height_upper_outlier))\n",
    "print(\"Number of Lower Outliers is:\",sum(df[\"height\"]<height_lower_outlier))"
   ]
  },
  {
   "cell_type": "code",
   "execution_count": 59,
   "metadata": {
    "id": "lXYPmzAxtLiN"
   },
   "outputs": [],
   "source": [
    "# assigning the rows to dataset which contains values in between lower and upper bound.\n",
    "df = df[df['height'].between(height_lower_outlier,height_upper_outlier)]"
   ]
  },
  {
   "cell_type": "markdown",
   "metadata": {},
   "source": [
    "# Data exploration after cleaning"
   ]
  },
  {
   "cell_type": "code",
   "execution_count": 60,
   "metadata": {
    "colab": {
     "base_uri": "https://localhost:8080/"
    },
    "id": "F6FP3E4a1Ac5",
    "outputId": "0553d7a1-b2bc-4f45-b416-25a7bc9d7ec7"
   },
   "outputs": [
    {
     "data": {
      "text/plain": [
       "(69303, 13)"
      ]
     },
     "execution_count": 60,
     "metadata": {},
     "output_type": "execute_result"
    }
   ],
   "source": [
    "# checking the shape of data\n",
    "df.shape"
   ]
  },
  {
   "cell_type": "code",
   "execution_count": 61,
   "metadata": {
    "colab": {
     "base_uri": "https://localhost:8080/",
     "height": 457
    },
    "id": "sgS12Q032UbI",
    "outputId": "b7c52f28-fac7-456c-8966-7096ad4ece32"
   },
   "outputs": [
    {
     "data": {
      "text/html": [
       "<div>\n",
       "<style scoped>\n",
       "    .dataframe tbody tr th:only-of-type {\n",
       "        vertical-align: middle;\n",
       "    }\n",
       "\n",
       "    .dataframe tbody tr th {\n",
       "        vertical-align: top;\n",
       "    }\n",
       "\n",
       "    .dataframe thead th {\n",
       "        text-align: right;\n",
       "    }\n",
       "</style>\n",
       "<table border=\"1\" class=\"dataframe\">\n",
       "  <thead>\n",
       "    <tr style=\"text-align: right;\">\n",
       "      <th></th>\n",
       "      <th>count</th>\n",
       "      <th>mean</th>\n",
       "      <th>std</th>\n",
       "      <th>min</th>\n",
       "      <th>25%</th>\n",
       "      <th>50%</th>\n",
       "      <th>75%</th>\n",
       "      <th>max</th>\n",
       "    </tr>\n",
       "  </thead>\n",
       "  <tbody>\n",
       "    <tr>\n",
       "      <th>age</th>\n",
       "      <td>69303.0</td>\n",
       "      <td>19471.456733</td>\n",
       "      <td>2466.566750</td>\n",
       "      <td>10798.0</td>\n",
       "      <td>17668.0</td>\n",
       "      <td>19705.0</td>\n",
       "      <td>21328.0</td>\n",
       "      <td>23713.0</td>\n",
       "    </tr>\n",
       "    <tr>\n",
       "      <th>gender</th>\n",
       "      <td>69303.0</td>\n",
       "      <td>1.349393</td>\n",
       "      <td>0.476782</td>\n",
       "      <td>1.0</td>\n",
       "      <td>1.0</td>\n",
       "      <td>1.0</td>\n",
       "      <td>2.0</td>\n",
       "      <td>2.0</td>\n",
       "    </tr>\n",
       "    <tr>\n",
       "      <th>height</th>\n",
       "      <td>69303.0</td>\n",
       "      <td>164.438625</td>\n",
       "      <td>7.774459</td>\n",
       "      <td>140.0</td>\n",
       "      <td>159.0</td>\n",
       "      <td>165.0</td>\n",
       "      <td>170.0</td>\n",
       "      <td>193.0</td>\n",
       "    </tr>\n",
       "    <tr>\n",
       "      <th>weight</th>\n",
       "      <td>69303.0</td>\n",
       "      <td>74.033186</td>\n",
       "      <td>13.853247</td>\n",
       "      <td>32.0</td>\n",
       "      <td>65.0</td>\n",
       "      <td>72.0</td>\n",
       "      <td>82.0</td>\n",
       "      <td>131.0</td>\n",
       "    </tr>\n",
       "    <tr>\n",
       "      <th>ap_hi</th>\n",
       "      <td>69303.0</td>\n",
       "      <td>127.039854</td>\n",
       "      <td>16.926393</td>\n",
       "      <td>80.0</td>\n",
       "      <td>120.0</td>\n",
       "      <td>120.0</td>\n",
       "      <td>140.0</td>\n",
       "      <td>240.0</td>\n",
       "    </tr>\n",
       "    <tr>\n",
       "      <th>ap_lo</th>\n",
       "      <td>69303.0</td>\n",
       "      <td>81.605948</td>\n",
       "      <td>9.583725</td>\n",
       "      <td>60.0</td>\n",
       "      <td>80.0</td>\n",
       "      <td>80.0</td>\n",
       "      <td>90.0</td>\n",
       "      <td>140.0</td>\n",
       "    </tr>\n",
       "    <tr>\n",
       "      <th>cholesterol</th>\n",
       "      <td>69303.0</td>\n",
       "      <td>1.366680</td>\n",
       "      <td>0.680220</td>\n",
       "      <td>1.0</td>\n",
       "      <td>1.0</td>\n",
       "      <td>1.0</td>\n",
       "      <td>2.0</td>\n",
       "      <td>3.0</td>\n",
       "    </tr>\n",
       "    <tr>\n",
       "      <th>gluc</th>\n",
       "      <td>69303.0</td>\n",
       "      <td>1.225748</td>\n",
       "      <td>0.571529</td>\n",
       "      <td>1.0</td>\n",
       "      <td>1.0</td>\n",
       "      <td>1.0</td>\n",
       "      <td>1.0</td>\n",
       "      <td>3.0</td>\n",
       "    </tr>\n",
       "    <tr>\n",
       "      <th>smoke</th>\n",
       "      <td>69303.0</td>\n",
       "      <td>0.088005</td>\n",
       "      <td>0.283304</td>\n",
       "      <td>0.0</td>\n",
       "      <td>0.0</td>\n",
       "      <td>0.0</td>\n",
       "      <td>0.0</td>\n",
       "      <td>1.0</td>\n",
       "    </tr>\n",
       "    <tr>\n",
       "      <th>alco</th>\n",
       "      <td>69303.0</td>\n",
       "      <td>0.053446</td>\n",
       "      <td>0.224924</td>\n",
       "      <td>0.0</td>\n",
       "      <td>0.0</td>\n",
       "      <td>0.0</td>\n",
       "      <td>0.0</td>\n",
       "      <td>1.0</td>\n",
       "    </tr>\n",
       "    <tr>\n",
       "      <th>active</th>\n",
       "      <td>69303.0</td>\n",
       "      <td>0.803876</td>\n",
       "      <td>0.397067</td>\n",
       "      <td>0.0</td>\n",
       "      <td>1.0</td>\n",
       "      <td>1.0</td>\n",
       "      <td>1.0</td>\n",
       "      <td>1.0</td>\n",
       "    </tr>\n",
       "    <tr>\n",
       "      <th>cardio</th>\n",
       "      <td>69303.0</td>\n",
       "      <td>0.499113</td>\n",
       "      <td>0.500003</td>\n",
       "      <td>0.0</td>\n",
       "      <td>0.0</td>\n",
       "      <td>0.0</td>\n",
       "      <td>1.0</td>\n",
       "      <td>1.0</td>\n",
       "    </tr>\n",
       "    <tr>\n",
       "      <th>pulse_pressure</th>\n",
       "      <td>69303.0</td>\n",
       "      <td>45.433906</td>\n",
       "      <td>11.661697</td>\n",
       "      <td>10.0</td>\n",
       "      <td>40.0</td>\n",
       "      <td>40.0</td>\n",
       "      <td>50.0</td>\n",
       "      <td>120.0</td>\n",
       "    </tr>\n",
       "  </tbody>\n",
       "</table>\n",
       "</div>"
      ],
      "text/plain": [
       "                  count          mean          std      min      25%      50%  \\\n",
       "age             69303.0  19471.456733  2466.566750  10798.0  17668.0  19705.0   \n",
       "gender          69303.0      1.349393     0.476782      1.0      1.0      1.0   \n",
       "height          69303.0    164.438625     7.774459    140.0    159.0    165.0   \n",
       "weight          69303.0     74.033186    13.853247     32.0     65.0     72.0   \n",
       "ap_hi           69303.0    127.039854    16.926393     80.0    120.0    120.0   \n",
       "ap_lo           69303.0     81.605948     9.583725     60.0     80.0     80.0   \n",
       "cholesterol     69303.0      1.366680     0.680220      1.0      1.0      1.0   \n",
       "gluc            69303.0      1.225748     0.571529      1.0      1.0      1.0   \n",
       "smoke           69303.0      0.088005     0.283304      0.0      0.0      0.0   \n",
       "alco            69303.0      0.053446     0.224924      0.0      0.0      0.0   \n",
       "active          69303.0      0.803876     0.397067      0.0      1.0      1.0   \n",
       "cardio          69303.0      0.499113     0.500003      0.0      0.0      0.0   \n",
       "pulse_pressure  69303.0     45.433906    11.661697     10.0     40.0     40.0   \n",
       "\n",
       "                    75%      max  \n",
       "age             21328.0  23713.0  \n",
       "gender              2.0      2.0  \n",
       "height            170.0    193.0  \n",
       "weight             82.0    131.0  \n",
       "ap_hi             140.0    240.0  \n",
       "ap_lo              90.0    140.0  \n",
       "cholesterol         2.0      3.0  \n",
       "gluc                1.0      3.0  \n",
       "smoke               0.0      1.0  \n",
       "alco                0.0      1.0  \n",
       "active              1.0      1.0  \n",
       "cardio              1.0      1.0  \n",
       "pulse_pressure     50.0    120.0  "
      ]
     },
     "execution_count": 61,
     "metadata": {},
     "output_type": "execute_result"
    }
   ],
   "source": [
    "df.describe().transpose()"
   ]
  },
  {
   "cell_type": "code",
   "execution_count": 62,
   "metadata": {
    "colab": {
     "base_uri": "https://localhost:8080/"
    },
    "id": "ZeoJ7IL62Z2Q",
    "outputId": "3420aad6-b94e-432e-e886-119b1491928c"
   },
   "outputs": [
    {
     "name": "stdout",
     "output_type": "stream",
     "text": [
      "<class 'pandas.core.frame.DataFrame'>\n",
      "Int64Index: 69303 entries, 0 to 69999\n",
      "Data columns (total 13 columns):\n",
      " #   Column          Non-Null Count  Dtype  \n",
      "---  ------          --------------  -----  \n",
      " 0   age             69303 non-null  int64  \n",
      " 1   gender          69303 non-null  int64  \n",
      " 2   height          69303 non-null  int64  \n",
      " 3   weight          69303 non-null  float64\n",
      " 4   ap_hi           69303 non-null  int64  \n",
      " 5   ap_lo           69303 non-null  int64  \n",
      " 6   cholesterol     69303 non-null  int64  \n",
      " 7   gluc            69303 non-null  int64  \n",
      " 8   smoke           69303 non-null  int64  \n",
      " 9   alco            69303 non-null  int64  \n",
      " 10  active          69303 non-null  int64  \n",
      " 11  cardio          69303 non-null  int64  \n",
      " 12  pulse_pressure  69303 non-null  int64  \n",
      "dtypes: float64(1), int64(12)\n",
      "memory usage: 7.4 MB\n"
     ]
    }
   ],
   "source": [
    "df.info()"
   ]
  },
  {
   "cell_type": "code",
   "execution_count": 63,
   "metadata": {
    "colab": {
     "base_uri": "https://localhost:8080/"
    },
    "id": "DEP4zNMF2tQ0",
    "outputId": "ec08220a-931b-40ed-f47d-7a8acdd51cb1"
   },
   "outputs": [
    {
     "data": {
      "text/plain": [
       "0    34713\n",
       "1    34590\n",
       "Name: cardio, dtype: int64"
      ]
     },
     "execution_count": 63,
     "metadata": {},
     "output_type": "execute_result"
    }
   ],
   "source": [
    "# value counts of cadio. column after cleaning\n",
    "df['cardio'].value_counts()"
   ]
  },
  {
   "cell_type": "markdown",
   "metadata": {},
   "source": [
    "## checking outliers after cleaning"
   ]
  },
  {
   "cell_type": "code",
   "execution_count": 64,
   "metadata": {
    "colab": {
     "base_uri": "https://localhost:8080/",
     "height": 405
    },
    "id": "Sh544Iq208Dh",
    "outputId": "b83072f5-4d68-4c51-a7ba-8231b6867e3c"
   },
   "outputs": [
    {
     "data": {
      "text/plain": [
       "<Axes: xlabel='Height', ylabel='Estimated Outliers Distribution'>"
      ]
     },
     "execution_count": 64,
     "metadata": {},
     "output_type": "execute_result"
    },
    {
     "data": {
      "image/png": "[encoded data removed]",
      "text/plain": [
       "<Figure size 1200x400 with 1 Axes>"
      ]
     },
     "metadata": {},
     "output_type": "display_data"
    }
   ],
   "source": [
    "plt.figure(figsize=(12,4))\n",
    "plt.ylabel(\"Estimated Outliers Distribution\",{\"size\":12})\n",
    "plt.xlabel('Height',{\"size\":15})\n",
    "sns.boxplot(df['height'],orient='h')"
   ]
  },
  {
   "cell_type": "code",
   "execution_count": 65,
   "metadata": {
    "colab": {
     "base_uri": "https://localhost:8080/",
     "height": 405
    },
    "id": "SiXsuICN1krY",
    "outputId": "1ba23d6d-cd2e-429e-d6f7-73997c7d8dc0"
   },
   "outputs": [
    {
     "data": {
      "text/plain": [
       "<Axes: xlabel='Weight', ylabel='Estimated Outliers Distribution'>"
      ]
     },
     "execution_count": 65,
     "metadata": {},
     "output_type": "execute_result"
    },
    {
     "data": {
      "image/png": "[encoded data removed]",
      "text/plain": [
       "<Figure size 1200x400 with 1 Axes>"
      ]
     },
     "metadata": {},
     "output_type": "display_data"
    }
   ],
   "source": [
    "plt.figure(figsize=(12,4))\n",
    "plt.ylabel(\"Estimated Outliers Distribution\",{\"size\":12})\n",
    "plt.xlabel('Weight',{\"size\":15})\n",
    "sns.boxplot(df['weight'],orient='h')"
   ]
  },
  {
   "cell_type": "code",
   "execution_count": 66,
   "metadata": {},
   "outputs": [
    {
     "data": {
      "text/plain": [
       "<Axes: xlabel='Systolic Blood Pressure ap_hi', ylabel='Estimated Outliers Distribution'>"
      ]
     },
     "execution_count": 66,
     "metadata": {},
     "output_type": "execute_result"
    },
    {
     "data": {
      "image/png": "[encoded data removed]",
      "text/plain": [
       "<Figure size 1200x400 with 1 Axes>"
      ]
     },
     "metadata": {},
     "output_type": "display_data"
    }
   ],
   "source": [
    "plt.figure(figsize=(12,4))\n",
    "plt.ylabel(\"Estimated Outliers Distribution\",{\"size\":12})\n",
    "plt.xlabel('Systolic Blood Pressure ap_hi',{\"size\":15})\n",
    "sns.boxplot(df['ap_hi'],orient='h')"
   ]
  },
  {
   "cell_type": "code",
   "execution_count": 67,
   "metadata": {},
   "outputs": [
    {
     "data": {
      "text/plain": [
       "<Axes: xlabel='Dystolic Blood Pressure ap_lo', ylabel='Estimated Outliers Distribution'>"
      ]
     },
     "execution_count": 67,
     "metadata": {},
     "output_type": "execute_result"
    },
    {
     "data": {
      "image/png": "[encoded data removed]",
      "text/plain": [
       "<Figure size 1200x400 with 1 Axes>"
      ]
     },
     "metadata": {},
     "output_type": "display_data"
    }
   ],
   "source": [
    "plt.figure(figsize=(12,4))\n",
    "plt.ylabel(\"Estimated Outliers Distribution\",{\"size\":12})\n",
    "plt.xlabel('Dystolic Blood Pressure ap_lo',{\"size\":15})\n",
    "sns.boxplot(df['ap_lo'],orient='h')"
   ]
  },
  {
   "cell_type": "markdown",
   "metadata": {},
   "source": [
    "## Checking relationship between cardio and different columns under specific conditions"
   ]
  },
  {
   "cell_type": "markdown",
   "metadata": {},
   "source": [
    "peoples who has weight above average have slightly higher chance of cardio disease "
   ]
  },
  {
   "cell_type": "code",
   "execution_count": 68,
   "metadata": {},
   "outputs": [
    {
     "data": {
      "image/png": "[encoded data removed]",
      "text/plain": [
       "<Figure size 1200x400 with 2 Axes>"
      ]
     },
     "metadata": {},
     "output_type": "display_data"
    }
   ],
   "source": [
    "f,axes = plt.subplots(1,2)\n",
    "\n",
    "sns.countplot(x='cholesterol',hue='cardio',data=df[df['weight']>75],ax=axes[0])\n",
    "sns.countplot(x='gluc',hue='cardio',data=df[df['weight']>75],ax=axes[1])\n",
    "plt.show()"
   ]
  },
  {
   "cell_type": "markdown",
   "metadata": {},
   "source": [
    "## Heatmap of dataframe "
   ]
  },
  {
   "cell_type": "code",
   "execution_count": 69,
   "metadata": {
    "colab": {
     "base_uri": "https://localhost:8080/",
     "height": 558
    },
    "id": "O_ZlCHhE24ia",
    "outputId": "e360583d-57ca-4dbf-be4b-eb2a44480d7d"
   },
   "outputs": [
    {
     "data": {
      "text/plain": [
       "<Axes: >"
      ]
     },
     "execution_count": 69,
     "metadata": {},
     "output_type": "execute_result"
    },
    {
     "data": {
      "image/png": "[encoded data removed]",
      "text/plain": [
       "<Figure size 1500x500 with 2 Axes>"
      ]
     },
     "metadata": {},
     "output_type": "display_data"
    }
   ],
   "source": [
    "plt.figure(figsize=(15,5))\n",
    "sns.heatmap(df.corr(),annot=True,cmap=\"YlGnBu\",fmt='.0%') # fmt='.%' shows percentage"
   ]
  },
  {
   "cell_type": "markdown",
   "metadata": {},
   "source": [
    "# Training the model"
   ]
  },
  {
   "cell_type": "markdown",
   "metadata": {},
   "source": [
    "## Spliting the dataset into train and test"
   ]
  },
  {
   "cell_type": "code",
   "execution_count": 70,
   "metadata": {
    "id": "8_o3ZuIN7Qso"
   },
   "outputs": [],
   "source": [
    "# taking every column into X except Cardio\n",
    "X = df.drop(['cardio'],axis=1)"
   ]
  },
  {
   "cell_type": "code",
   "execution_count": 71,
   "metadata": {
    "colab": {
     "base_uri": "https://localhost:8080/"
    },
    "id": "fKZ7OocJ_Or3",
    "outputId": "6e52018f-b60d-4296-eb61-7136d81c617e"
   },
   "outputs": [
    {
     "data": {
      "text/plain": [
       "(69303, 12)"
      ]
     },
     "execution_count": 71,
     "metadata": {},
     "output_type": "execute_result"
    }
   ],
   "source": [
    "X.shape"
   ]
  },
  {
   "cell_type": "code",
   "execution_count": 72,
   "metadata": {
    "id": "4rvmT7dE-Ggc"
   },
   "outputs": [],
   "source": [
    "# taking cardio column into y\n",
    "y = df['cardio']"
   ]
  },
  {
   "cell_type": "code",
   "execution_count": 73,
   "metadata": {
    "id": "SnVkp68a-RJT"
   },
   "outputs": [],
   "source": [
    "# Spliting the data into train,test\n",
    "from sklearn.model_selection import train_test_split"
   ]
  },
  {
   "cell_type": "code",
   "execution_count": 74,
   "metadata": {
    "id": "5WR_Jp0I-7if"
   },
   "outputs": [],
   "source": [
    "X_train, X_test, y_train, y_test = train_test_split(X, y, test_size=0.25, random_state=40)"
   ]
  },
  {
   "cell_type": "code",
   "execution_count": 75,
   "metadata": {
    "colab": {
     "base_uri": "https://localhost:8080/"
    },
    "id": "PTK2ORC2_Yzh",
    "outputId": "f75ef0b4-4417-46af-e938-1cbce71b3085"
   },
   "outputs": [
    {
     "data": {
      "text/plain": [
       "((51977, 12), (17326, 12))"
      ]
     },
     "execution_count": 75,
     "metadata": {},
     "output_type": "execute_result"
    }
   ],
   "source": [
    "X_train.shape,X_test.shape"
   ]
  },
  {
   "cell_type": "markdown",
   "metadata": {},
   "source": [
    "## Decision Tree Model"
   ]
  },
  {
   "cell_type": "code",
   "execution_count": 76,
   "metadata": {},
   "outputs": [],
   "source": [
    "from sklearn.tree import DecisionTreeClassifier"
   ]
  },
  {
   "cell_type": "code",
   "execution_count": 77,
   "metadata": {},
   "outputs": [
    {
     "data": {
      "text/html": [
       "<style>#sk-container-id-1 {color: black;}#sk-container-id-1 pre{padding: 0;}#sk-container-id-1 div.sk-toggleable {background-color: white;}#sk-container-id-1 label.sk-toggleable__label {cursor: pointer;display: block;width: 100%;margin-bottom: 0;padding: 0.3em;box-sizing: border-box;text-align: center;}#sk-container-id-1 label.sk-toggleable__label-arrow:before {content: \"▸\";float: left;margin-right: 0.25em;color: #696969;}#sk-container-id-1 label.sk-toggleable__label-arrow:hover:before {color: black;}#sk-container-id-1 div.sk-estimator:hover label.sk-toggleable__label-arrow:before {color: black;}#sk-container-id-1 div.sk-toggleable__content {max-height: 0;max-width: 0;overflow: hidden;text-align: left;background-color: #f0f8ff;}#sk-container-id-1 div.sk-toggleable__content pre {margin: 0.2em;color: black;border-radius: 0.25em;background-color: #f0f8ff;}#sk-container-id-1 input.sk-toggleable__control:checked~div.sk-toggleable__content {max-height: 200px;max-width: 100%;overflow: auto;}#sk-container-id-1 input.sk-toggleable__control:checked~label.sk-toggleable__label-arrow:before {content: \"▾\";}#sk-container-id-1 div.sk-estimator input.sk-toggleable__control:checked~label.sk-toggleable__label {background-color: #d4ebff;}#sk-container-id-1 div.sk-label input.sk-toggleable__control:checked~label.sk-toggleable__label {background-color: #d4ebff;}#sk-container-id-1 input.sk-hidden--visually {border: 0;clip: rect(1px 1px 1px 1px);clip: rect(1px, 1px, 1px, 1px);height: 1px;margin: -1px;overflow: hidden;padding: 0;position: absolute;width: 1px;}#sk-container-id-1 div.sk-estimator {font-family: monospace;background-color: #f0f8ff;border: 1px dotted black;border-radius: 0.25em;box-sizing: border-box;margin-bottom: 0.5em;}#sk-container-id-1 div.sk-estimator:hover {background-color: #d4ebff;}#sk-container-id-1 div.sk-parallel-item::after {content: \"\";width: 100%;border-bottom: 1px solid gray;flex-grow: 1;}#sk-container-id-1 div.sk-label:hover label.sk-toggleable__label {background-color: #d4ebff;}#sk-container-id-1 div.sk-serial::before {content: \"\";position: absolute;border-left: 1px solid gray;box-sizing: border-box;top: 0;bottom: 0;left: 50%;z-index: 0;}#sk-container-id-1 div.sk-serial {display: flex;flex-direction: column;align-items: center;background-color: white;padding-right: 0.2em;padding-left: 0.2em;position: relative;}#sk-container-id-1 div.sk-item {position: relative;z-index: 1;}#sk-container-id-1 div.sk-parallel {display: flex;align-items: stretch;justify-content: center;background-color: white;position: relative;}#sk-container-id-1 div.sk-item::before, #sk-container-id-1 div.sk-parallel-item::before {content: \"\";position: absolute;border-left: 1px solid gray;box-sizing: border-box;top: 0;bottom: 0;left: 50%;z-index: -1;}#sk-container-id-1 div.sk-parallel-item {display: flex;flex-direction: column;z-index: 1;position: relative;background-color: white;}#sk-container-id-1 div.sk-parallel-item:first-child::after {align-self: flex-end;width: 50%;}#sk-container-id-1 div.sk-parallel-item:last-child::after {align-self: flex-start;width: 50%;}#sk-container-id-1 div.sk-parallel-item:only-child::after {width: 0;}#sk-container-id-1 div.sk-dashed-wrapped {border: 1px dashed gray;margin: 0 0.4em 0.5em 0.4em;box-sizing: border-box;padding-bottom: 0.4em;background-color: white;}#sk-container-id-1 div.sk-label label {font-family: monospace;font-weight: bold;display: inline-block;line-height: 1.2em;}#sk-container-id-1 div.sk-label-container {text-align: center;}#sk-container-id-1 div.sk-container {/* jupyter's `normalize.less` sets `[hidden] { display: none; }` but bootstrap.min.css set `[hidden] { display: none !important; }` so we also need the `!important` here to be able to override the default hidden behavior on the sphinx rendered scikit-learn.org. See: https://github.com/scikit-learn/scikit-learn/issues/21755 */display: inline-block !important;position: relative;}#sk-container-id-1 div.sk-text-repr-fallback {display: none;}</style><div id=\"sk-container-id-1\" class=\"sk-top-container\"><div class=\"sk-text-repr-fallback\"><pre>DecisionTreeClassifier()</pre><b>In a Jupyter environment, please rerun this cell to show the HTML representation or trust the notebook. <br />On GitHub, the HTML representation is unable to render, please try loading this page with nbviewer.org.</b></div><div class=\"sk-container\" hidden><div class=\"sk-item\"><div class=\"sk-estimator sk-toggleable\"><input class=\"sk-toggleable__control sk-hidden--visually\" id=\"sk-estimator-id-1\" type=\"checkbox\" checked><label for=\"sk-estimator-id-1\" class=\"sk-toggleable__label sk-toggleable__label-arrow\">DecisionTreeClassifier</label><div class=\"sk-toggleable__content\"><pre>DecisionTreeClassifier()</pre></div></div></div></div></div>"
      ],
      "text/plain": [
       "DecisionTreeClassifier()"
      ]
     },
     "execution_count": 77,
     "metadata": {},
     "output_type": "execute_result"
    }
   ],
   "source": [
    "dtree_model = DecisionTreeClassifier()\n",
    "dtree_model.fit(X_train,y_train)"
   ]
  },
  {
   "cell_type": "code",
   "execution_count": 78,
   "metadata": {},
   "outputs": [],
   "source": [
    "y_tree_pred = dtree_model.predict(X_test)"
   ]
  },
  {
   "cell_type": "code",
   "execution_count": 79,
   "metadata": {},
   "outputs": [
    {
     "data": {
      "text/plain": [
       "<Axes: >"
      ]
     },
     "execution_count": 79,
     "metadata": {},
     "output_type": "execute_result"
    },
    {
     "data": {
      "image/png": "[encoded data removed]",
      "text/plain": [
       "<Figure size 1200x400 with 2 Axes>"
      ]
     },
     "metadata": {},
     "output_type": "display_data"
    }
   ],
   "source": [
    "plt.ylabel('Actual')\n",
    "plt.xlabel('Predicted')\n",
    "sns.heatmap(metrics.confusion_matrix(y_test,y_tree_pred),annot=True,fmt='d')"
   ]
  },
  {
   "cell_type": "code",
   "execution_count": 80,
   "metadata": {},
   "outputs": [
    {
     "name": "stdout",
     "output_type": "stream",
     "text": [
      "Decision Tree Classifier\n",
      "\n",
      " Confusion Matrix : \n",
      " [[5466 3226]\n",
      " [3151 5483]]\n",
      "Accuracy Score :  0.6319404363384509\n",
      "Accuracy in Percentage :  63 %\n",
      "\n",
      "               precision    recall  f1-score   support\n",
      "\n",
      "           0       0.63      0.63      0.63      8617\n",
      "           1       0.64      0.63      0.63      8709\n",
      "\n",
      "    accuracy                           0.63     17326\n",
      "   macro avg       0.63      0.63      0.63     17326\n",
      "weighted avg       0.63      0.63      0.63     17326\n",
      "\n"
     ]
    }
   ],
   "source": [
    "print('Decision Tree Classifier')\n",
    "conf_mat=metrics.confusion_matrix(y_test, y_tree_pred)\n",
    "print('\\n Confusion Matrix : \\n', conf_mat)\n",
    "Accuracy_score=metrics.accuracy_score(y_test,y_tree_pred)\n",
    "print('Accuracy Score : ', Accuracy_score)\n",
    "print('Accuracy in Percentage : ',int(Accuracy_score*100),'%')\n",
    "print('\\n',metrics.classification_report(y_tree_pred,y_test))"
   ]
  },
  {
   "cell_type": "markdown",
   "metadata": {},
   "source": [
    "## Random Forest Model"
   ]
  },
  {
   "cell_type": "code",
   "execution_count": 81,
   "metadata": {
    "id": "5ZjV07av_eTv"
   },
   "outputs": [],
   "source": [
    "# Importing Random forest classifier\n",
    "from sklearn.ensemble import RandomForestClassifier"
   ]
  },
  {
   "cell_type": "code",
   "execution_count": 82,
   "metadata": {
    "id": "pTE69e5dAKjL"
   },
   "outputs": [],
   "source": [
    "# Creating Random Forest object\n",
    "rf_model = RandomForestClassifier()"
   ]
  },
  {
   "cell_type": "code",
   "execution_count": 83,
   "metadata": {
    "colab": {
     "base_uri": "https://localhost:8080/",
     "height": 75
    },
    "id": "G7nsk2ZgAYPO",
    "outputId": "839c8e1a-6b8e-43bb-bb17-3e4b72df0e5b"
   },
   "outputs": [
    {
     "data": {
      "text/html": [
       "<style>#sk-container-id-2 {color: black;}#sk-container-id-2 pre{padding: 0;}#sk-container-id-2 div.sk-toggleable {background-color: white;}#sk-container-id-2 label.sk-toggleable__label {cursor: pointer;display: block;width: 100%;margin-bottom: 0;padding: 0.3em;box-sizing: border-box;text-align: center;}#sk-container-id-2 label.sk-toggleable__label-arrow:before {content: \"▸\";float: left;margin-right: 0.25em;color: #696969;}#sk-container-id-2 label.sk-toggleable__label-arrow:hover:before {color: black;}#sk-container-id-2 div.sk-estimator:hover label.sk-toggleable__label-arrow:before {color: black;}#sk-container-id-2 div.sk-toggleable__content {max-height: 0;max-width: 0;overflow: hidden;text-align: left;background-color: #f0f8ff;}#sk-container-id-2 div.sk-toggleable__content pre {margin: 0.2em;color: black;border-radius: 0.25em;background-color: #f0f8ff;}#sk-container-id-2 input.sk-toggleable__control:checked~div.sk-toggleable__content {max-height: 200px;max-width: 100%;overflow: auto;}#sk-container-id-2 input.sk-toggleable__control:checked~label.sk-toggleable__label-arrow:before {content: \"▾\";}#sk-container-id-2 div.sk-estimator input.sk-toggleable__control:checked~label.sk-toggleable__label {background-color: #d4ebff;}#sk-container-id-2 div.sk-label input.sk-toggleable__control:checked~label.sk-toggleable__label {background-color: #d4ebff;}#sk-container-id-2 input.sk-hidden--visually {border: 0;clip: rect(1px 1px 1px 1px);clip: rect(1px, 1px, 1px, 1px);height: 1px;margin: -1px;overflow: hidden;padding: 0;position: absolute;width: 1px;}#sk-container-id-2 div.sk-estimator {font-family: monospace;background-color: #f0f8ff;border: 1px dotted black;border-radius: 0.25em;box-sizing: border-box;margin-bottom: 0.5em;}#sk-container-id-2 div.sk-estimator:hover {background-color: #d4ebff;}#sk-container-id-2 div.sk-parallel-item::after {content: \"\";width: 100%;border-bottom: 1px solid gray;flex-grow: 1;}#sk-container-id-2 div.sk-label:hover label.sk-toggleable__label {background-color: #d4ebff;}#sk-container-id-2 div.sk-serial::before {content: \"\";position: absolute;border-left: 1px solid gray;box-sizing: border-box;top: 0;bottom: 0;left: 50%;z-index: 0;}#sk-container-id-2 div.sk-serial {display: flex;flex-direction: column;align-items: center;background-color: white;padding-right: 0.2em;padding-left: 0.2em;position: relative;}#sk-container-id-2 div.sk-item {position: relative;z-index: 1;}#sk-container-id-2 div.sk-parallel {display: flex;align-items: stretch;justify-content: center;background-color: white;position: relative;}#sk-container-id-2 div.sk-item::before, #sk-container-id-2 div.sk-parallel-item::before {content: \"\";position: absolute;border-left: 1px solid gray;box-sizing: border-box;top: 0;bottom: 0;left: 50%;z-index: -1;}#sk-container-id-2 div.sk-parallel-item {display: flex;flex-direction: column;z-index: 1;position: relative;background-color: white;}#sk-container-id-2 div.sk-parallel-item:first-child::after {align-self: flex-end;width: 50%;}#sk-container-id-2 div.sk-parallel-item:last-child::after {align-self: flex-start;width: 50%;}#sk-container-id-2 div.sk-parallel-item:only-child::after {width: 0;}#sk-container-id-2 div.sk-dashed-wrapped {border: 1px dashed gray;margin: 0 0.4em 0.5em 0.4em;box-sizing: border-box;padding-bottom: 0.4em;background-color: white;}#sk-container-id-2 div.sk-label label {font-family: monospace;font-weight: bold;display: inline-block;line-height: 1.2em;}#sk-container-id-2 div.sk-label-container {text-align: center;}#sk-container-id-2 div.sk-container {/* jupyter's `normalize.less` sets `[hidden] { display: none; }` but bootstrap.min.css set `[hidden] { display: none !important; }` so we also need the `!important` here to be able to override the default hidden behavior on the sphinx rendered scikit-learn.org. See: https://github.com/scikit-learn/scikit-learn/issues/21755 */display: inline-block !important;position: relative;}#sk-container-id-2 div.sk-text-repr-fallback {display: none;}</style><div id=\"sk-container-id-2\" class=\"sk-top-container\"><div class=\"sk-text-repr-fallback\"><pre>RandomForestClassifier()</pre><b>In a Jupyter environment, please rerun this cell to show the HTML representation or trust the notebook. <br />On GitHub, the HTML representation is unable to render, please try loading this page with nbviewer.org.</b></div><div class=\"sk-container\" hidden><div class=\"sk-item\"><div class=\"sk-estimator sk-toggleable\"><input class=\"sk-toggleable__control sk-hidden--visually\" id=\"sk-estimator-id-2\" type=\"checkbox\" checked><label for=\"sk-estimator-id-2\" class=\"sk-toggleable__label sk-toggleable__label-arrow\">RandomForestClassifier</label><div class=\"sk-toggleable__content\"><pre>RandomForestClassifier()</pre></div></div></div></div></div>"
      ],
      "text/plain": [
       "RandomForestClassifier()"
      ]
     },
     "execution_count": 83,
     "metadata": {},
     "output_type": "execute_result"
    }
   ],
   "source": [
    "# Training the model\n",
    "rf_model.fit(X_train,y_train)"
   ]
  },
  {
   "cell_type": "code",
   "execution_count": 84,
   "metadata": {
    "id": "dzn5bS7zAoT7"
   },
   "outputs": [],
   "source": [
    "# Making prediction from the model\n",
    "y_rf_pred = rf_model.predict(X_test)"
   ]
  },
  {
   "cell_type": "code",
   "execution_count": 85,
   "metadata": {
    "colab": {
     "base_uri": "https://localhost:8080/"
    },
    "id": "n6SuSN_wCQ-O",
    "outputId": "1e8254e8-316e-4ad3-844a-dd591452eb0e"
   },
   "outputs": [
    {
     "data": {
      "text/plain": [
       "array([[6379, 2313],\n",
       "       [2587, 6047]])"
      ]
     },
     "execution_count": 85,
     "metadata": {},
     "output_type": "execute_result"
    }
   ],
   "source": [
    "# Creating confusion matrix\n",
    "metrics.confusion_matrix(y_test,y_rf_pred)"
   ]
  },
  {
   "cell_type": "code",
   "execution_count": 86,
   "metadata": {
    "colab": {
     "base_uri": "https://localhost:8080/",
     "height": 447
    },
    "id": "DlxseJkTCbRU",
    "outputId": "6199fba4-777a-4a4d-a435-352166f364e1"
   },
   "outputs": [
    {
     "data": {
      "image/png": "[encoded data removed]",
      "text/plain": [
       "<Figure size 1200x400 with 2 Axes>"
      ]
     },
     "metadata": {},
     "output_type": "display_data"
    }
   ],
   "source": [
    "plt.ylabel('Actual')\n",
    "plt.xlabel('Predicted')\n",
    "sns.heatmap(metrics.confusion_matrix(y_test,y_rf_pred),annot=True,fmt='d') # fmt='d' shows integer value.\n",
    "plt.show()"
   ]
  },
  {
   "cell_type": "code",
   "execution_count": 87,
   "metadata": {
    "colab": {
     "base_uri": "https://localhost:8080/"
    },
    "id": "ooSDog5PDCX0",
    "outputId": "6871d491-2406-44ce-a3fa-18d990d3c4fb"
   },
   "outputs": [
    {
     "name": "stdout",
     "output_type": "stream",
     "text": [
      "Random Forest Classifier\n",
      "\n",
      " Confusion Matrix : \n",
      " [[6379 2313]\n",
      " [2587 6047]]\n",
      "Accuracy Score :  0.7171880410943091\n",
      "Accuracy in Percentage :  71 %\n",
      "\n",
      "               precision    recall  f1-score   support\n",
      "\n",
      "           0       0.73      0.71      0.72      8966\n",
      "           1       0.70      0.72      0.71      8360\n",
      "\n",
      "    accuracy                           0.72     17326\n",
      "   macro avg       0.72      0.72      0.72     17326\n",
      "weighted avg       0.72      0.72      0.72     17326\n",
      "\n"
     ]
    }
   ],
   "source": [
    "print('Random Forest Classifier')\n",
    "conf_mat=metrics.confusion_matrix(y_test, y_rf_pred)\n",
    "print('\\n Confusion Matrix : \\n', conf_mat)\n",
    "Accuracy_score=metrics.accuracy_score(y_test,y_rf_pred)\n",
    "print('Accuracy Score : ', Accuracy_score)\n",
    "print('Accuracy in Percentage : ',int(Accuracy_score*100),'%')\n",
    "print('\\n',metrics.classification_report(y_rf_pred,y_test))"
   ]
  },
  {
   "cell_type": "markdown",
   "metadata": {},
   "source": [
    "## Gaussian Naive Bayes Model"
   ]
  },
  {
   "cell_type": "code",
   "execution_count": 88,
   "metadata": {
    "id": "TJYS5vLRGC2j"
   },
   "outputs": [],
   "source": [
    "from sklearn.naive_bayes import GaussianNB"
   ]
  },
  {
   "cell_type": "code",
   "execution_count": 89,
   "metadata": {},
   "outputs": [
    {
     "data": {
      "text/html": [
       "<style>#sk-container-id-3 {color: black;}#sk-container-id-3 pre{padding: 0;}#sk-container-id-3 div.sk-toggleable {background-color: white;}#sk-container-id-3 label.sk-toggleable__label {cursor: pointer;display: block;width: 100%;margin-bottom: 0;padding: 0.3em;box-sizing: border-box;text-align: center;}#sk-container-id-3 label.sk-toggleable__label-arrow:before {content: \"▸\";float: left;margin-right: 0.25em;color: #696969;}#sk-container-id-3 label.sk-toggleable__label-arrow:hover:before {color: black;}#sk-container-id-3 div.sk-estimator:hover label.sk-toggleable__label-arrow:before {color: black;}#sk-container-id-3 div.sk-toggleable__content {max-height: 0;max-width: 0;overflow: hidden;text-align: left;background-color: #f0f8ff;}#sk-container-id-3 div.sk-toggleable__content pre {margin: 0.2em;color: black;border-radius: 0.25em;background-color: #f0f8ff;}#sk-container-id-3 input.sk-toggleable__control:checked~div.sk-toggleable__content {max-height: 200px;max-width: 100%;overflow: auto;}#sk-container-id-3 input.sk-toggleable__control:checked~label.sk-toggleable__label-arrow:before {content: \"▾\";}#sk-container-id-3 div.sk-estimator input.sk-toggleable__control:checked~label.sk-toggleable__label {background-color: #d4ebff;}#sk-container-id-3 div.sk-label input.sk-toggleable__control:checked~label.sk-toggleable__label {background-color: #d4ebff;}#sk-container-id-3 input.sk-hidden--visually {border: 0;clip: rect(1px 1px 1px 1px);clip: rect(1px, 1px, 1px, 1px);height: 1px;margin: -1px;overflow: hidden;padding: 0;position: absolute;width: 1px;}#sk-container-id-3 div.sk-estimator {font-family: monospace;background-color: #f0f8ff;border: 1px dotted black;border-radius: 0.25em;box-sizing: border-box;margin-bottom: 0.5em;}#sk-container-id-3 div.sk-estimator:hover {background-color: #d4ebff;}#sk-container-id-3 div.sk-parallel-item::after {content: \"\";width: 100%;border-bottom: 1px solid gray;flex-grow: 1;}#sk-container-id-3 div.sk-label:hover label.sk-toggleable__label {background-color: #d4ebff;}#sk-container-id-3 div.sk-serial::before {content: \"\";position: absolute;border-left: 1px solid gray;box-sizing: border-box;top: 0;bottom: 0;left: 50%;z-index: 0;}#sk-container-id-3 div.sk-serial {display: flex;flex-direction: column;align-items: center;background-color: white;padding-right: 0.2em;padding-left: 0.2em;position: relative;}#sk-container-id-3 div.sk-item {position: relative;z-index: 1;}#sk-container-id-3 div.sk-parallel {display: flex;align-items: stretch;justify-content: center;background-color: white;position: relative;}#sk-container-id-3 div.sk-item::before, #sk-container-id-3 div.sk-parallel-item::before {content: \"\";position: absolute;border-left: 1px solid gray;box-sizing: border-box;top: 0;bottom: 0;left: 50%;z-index: -1;}#sk-container-id-3 div.sk-parallel-item {display: flex;flex-direction: column;z-index: 1;position: relative;background-color: white;}#sk-container-id-3 div.sk-parallel-item:first-child::after {align-self: flex-end;width: 50%;}#sk-container-id-3 div.sk-parallel-item:last-child::after {align-self: flex-start;width: 50%;}#sk-container-id-3 div.sk-parallel-item:only-child::after {width: 0;}#sk-container-id-3 div.sk-dashed-wrapped {border: 1px dashed gray;margin: 0 0.4em 0.5em 0.4em;box-sizing: border-box;padding-bottom: 0.4em;background-color: white;}#sk-container-id-3 div.sk-label label {font-family: monospace;font-weight: bold;display: inline-block;line-height: 1.2em;}#sk-container-id-3 div.sk-label-container {text-align: center;}#sk-container-id-3 div.sk-container {/* jupyter's `normalize.less` sets `[hidden] { display: none; }` but bootstrap.min.css set `[hidden] { display: none !important; }` so we also need the `!important` here to be able to override the default hidden behavior on the sphinx rendered scikit-learn.org. See: https://github.com/scikit-learn/scikit-learn/issues/21755 */display: inline-block !important;position: relative;}#sk-container-id-3 div.sk-text-repr-fallback {display: none;}</style><div id=\"sk-container-id-3\" class=\"sk-top-container\"><div class=\"sk-text-repr-fallback\"><pre>GaussianNB()</pre><b>In a Jupyter environment, please rerun this cell to show the HTML representation or trust the notebook. <br />On GitHub, the HTML representation is unable to render, please try loading this page with nbviewer.org.</b></div><div class=\"sk-container\" hidden><div class=\"sk-item\"><div class=\"sk-estimator sk-toggleable\"><input class=\"sk-toggleable__control sk-hidden--visually\" id=\"sk-estimator-id-3\" type=\"checkbox\" checked><label for=\"sk-estimator-id-3\" class=\"sk-toggleable__label sk-toggleable__label-arrow\">GaussianNB</label><div class=\"sk-toggleable__content\"><pre>GaussianNB()</pre></div></div></div></div></div>"
      ],
      "text/plain": [
       "GaussianNB()"
      ]
     },
     "execution_count": 89,
     "metadata": {},
     "output_type": "execute_result"
    }
   ],
   "source": [
    "naive_model = GaussianNB()\n",
    "naive_model.fit(X_train,y_train)"
   ]
  },
  {
   "cell_type": "code",
   "execution_count": 90,
   "metadata": {},
   "outputs": [],
   "source": [
    "y_naive_pred = naive_model.predict(X_test)"
   ]
  },
  {
   "cell_type": "code",
   "execution_count": 91,
   "metadata": {},
   "outputs": [
    {
     "data": {
      "text/plain": [
       "<Axes: >"
      ]
     },
     "execution_count": 91,
     "metadata": {},
     "output_type": "execute_result"
    },
    {
     "data": {
      "image/png": "[encoded data removed]",
      "text/plain": [
       "<Figure size 1200x400 with 2 Axes>"
      ]
     },
     "metadata": {},
     "output_type": "display_data"
    }
   ],
   "source": [
    "plt.ylabel('Actual')\n",
    "plt.xlabel('Predicted')\n",
    "sns.heatmap(metrics.confusion_matrix(y_test,y_naive_pred),annot=True,fmt='d')"
   ]
  },
  {
   "cell_type": "code",
   "execution_count": 92,
   "metadata": {},
   "outputs": [
    {
     "name": "stdout",
     "output_type": "stream",
     "text": [
      "Gussian NB Classifier\n",
      "\n",
      " Confusion Matrix : \n",
      " [[7236 1456]\n",
      " [3394 5240]]\n",
      "Accuracy Score :  0.7200738774096733\n",
      "Accuracy in Percentage :  72 %\n",
      "\n",
      "               precision    recall  f1-score   support\n",
      "\n",
      "           0       0.83      0.68      0.75     10630\n",
      "           1       0.61      0.78      0.68      6696\n",
      "\n",
      "    accuracy                           0.72     17326\n",
      "   macro avg       0.72      0.73      0.72     17326\n",
      "weighted avg       0.75      0.72      0.72     17326\n",
      "\n"
     ]
    }
   ],
   "source": [
    "print('Gussian NB Classifier')\n",
    "conf_mat=metrics.confusion_matrix(y_test, y_naive_pred)\n",
    "print('\\n Confusion Matrix : \\n', conf_mat)\n",
    "Accuracy_score=metrics.accuracy_score(y_test,y_naive_pred)\n",
    "print('Accuracy Score : ', Accuracy_score)\n",
    "print('Accuracy in Percentage : ',int(Accuracy_score*100),'%')\n",
    "print('\\n',metrics.classification_report(y_naive_pred,y_test))"
   ]
  },
  {
   "cell_type": "markdown",
   "metadata": {},
   "source": [
    "#### Decision trees, Random Forest, AdaBoost, Naïve Bayes does not require feature scaling"
   ]
  },
  {
   "cell_type": "markdown",
   "metadata": {},
   "source": [
    "## Feature Scaling of data"
   ]
  },
  {
   "cell_type": "code",
   "execution_count": 93,
   "metadata": {},
   "outputs": [],
   "source": [
    "from sklearn.preprocessing import StandardScaler"
   ]
  },
  {
   "cell_type": "code",
   "execution_count": 94,
   "metadata": {},
   "outputs": [],
   "source": [
    "scaler = StandardScaler()"
   ]
  },
  {
   "cell_type": "code",
   "execution_count": 95,
   "metadata": {},
   "outputs": [],
   "source": [
    "X_train_scaled = scaler.fit_transform(X_train)\n",
    "X_test_scaled = scaler.fit_transform(X_test)"
   ]
  },
  {
   "cell_type": "code",
   "execution_count": 96,
   "metadata": {},
   "outputs": [
    {
     "data": {
      "text/plain": [
       "((51977, 12), (17326, 12))"
      ]
     },
     "execution_count": 96,
     "metadata": {},
     "output_type": "execute_result"
    }
   ],
   "source": [
    "X_train_scaled.shape,X_test_scaled.shape"
   ]
  },
  {
   "cell_type": "code",
   "execution_count": 97,
   "metadata": {},
   "outputs": [
    {
     "data": {
      "text/plain": [
       "array([[-0.83463702, -0.72979189,  0.59025323, ..., -0.23694181,\n",
       "        -2.05317627,  0.3922872 ],\n",
       "       [ 0.97016638,  1.37025366,  0.33319371, ..., -0.23694181,\n",
       "         0.48705024, -0.46827015],\n",
       "       [-0.81471914, -0.72979189,  0.07613419, ..., -0.23694181,\n",
       "         0.48705024,  1.25284455],\n",
       "       ...,\n",
       "       [ 1.27177992, -0.72979189,  0.46172347, ..., -0.23694181,\n",
       "         0.48705024, -0.46827015],\n",
       "       [ 0.3669393 , -0.72979189,  0.07613419, ..., -0.23694181,\n",
       "         0.48705024,  0.3922872 ],\n",
       "       [ 1.03317191,  1.37025366,  0.33319371, ..., -0.23694181,\n",
       "         0.48705024,  0.3922872 ]])"
      ]
     },
     "execution_count": 97,
     "metadata": {},
     "output_type": "execute_result"
    }
   ],
   "source": [
    "X_test_scaled"
   ]
  },
  {
   "cell_type": "markdown",
   "metadata": {},
   "source": [
    "## Logistic Regression"
   ]
  },
  {
   "cell_type": "code",
   "execution_count": 98,
   "metadata": {},
   "outputs": [],
   "source": [
    "# importing logistic regression\n",
    "from sklearn.linear_model import LogisticRegression"
   ]
  },
  {
   "cell_type": "code",
   "execution_count": 99,
   "metadata": {},
   "outputs": [
    {
     "name": "stderr",
     "output_type": "stream",
     "text": [
      "/home/aarav/anaconda3/lib/python3.11/site-packages/sklearn/linear_model/_logistic.py:460: ConvergenceWarning: lbfgs failed to converge (status=1):\n",
      "STOP: TOTAL NO. of ITERATIONS REACHED LIMIT.\n",
      "\n",
      "Increase the number of iterations (max_iter) or scale the data as shown in:\n",
      "    https://scikit-learn.org/stable/modules/preprocessing.html\n",
      "Please also refer to the documentation for alternative solver options:\n",
      "    https://scikit-learn.org/stable/modules/linear_model.html#logistic-regression\n",
      "  n_iter_i = _check_optimize_result(\n"
     ]
    },
    {
     "data": {
      "text/html": [
       "<style>#sk-container-id-4 {color: black;}#sk-container-id-4 pre{padding: 0;}#sk-container-id-4 div.sk-toggleable {background-color: white;}#sk-container-id-4 label.sk-toggleable__label {cursor: pointer;display: block;width: 100%;margin-bottom: 0;padding: 0.3em;box-sizing: border-box;text-align: center;}#sk-container-id-4 label.sk-toggleable__label-arrow:before {content: \"▸\";float: left;margin-right: 0.25em;color: #696969;}#sk-container-id-4 label.sk-toggleable__label-arrow:hover:before {color: black;}#sk-container-id-4 div.sk-estimator:hover label.sk-toggleable__label-arrow:before {color: black;}#sk-container-id-4 div.sk-toggleable__content {max-height: 0;max-width: 0;overflow: hidden;text-align: left;background-color: #f0f8ff;}#sk-container-id-4 div.sk-toggleable__content pre {margin: 0.2em;color: black;border-radius: 0.25em;background-color: #f0f8ff;}#sk-container-id-4 input.sk-toggleable__control:checked~div.sk-toggleable__content {max-height: 200px;max-width: 100%;overflow: auto;}#sk-container-id-4 input.sk-toggleable__control:checked~label.sk-toggleable__label-arrow:before {content: \"▾\";}#sk-container-id-4 div.sk-estimator input.sk-toggleable__control:checked~label.sk-toggleable__label {background-color: #d4ebff;}#sk-container-id-4 div.sk-label input.sk-toggleable__control:checked~label.sk-toggleable__label {background-color: #d4ebff;}#sk-container-id-4 input.sk-hidden--visually {border: 0;clip: rect(1px 1px 1px 1px);clip: rect(1px, 1px, 1px, 1px);height: 1px;margin: -1px;overflow: hidden;padding: 0;position: absolute;width: 1px;}#sk-container-id-4 div.sk-estimator {font-family: monospace;background-color: #f0f8ff;border: 1px dotted black;border-radius: 0.25em;box-sizing: border-box;margin-bottom: 0.5em;}#sk-container-id-4 div.sk-estimator:hover {background-color: #d4ebff;}#sk-container-id-4 div.sk-parallel-item::after {content: \"\";width: 100%;border-bottom: 1px solid gray;flex-grow: 1;}#sk-container-id-4 div.sk-label:hover label.sk-toggleable__label {background-color: #d4ebff;}#sk-container-id-4 div.sk-serial::before {content: \"\";position: absolute;border-left: 1px solid gray;box-sizing: border-box;top: 0;bottom: 0;left: 50%;z-index: 0;}#sk-container-id-4 div.sk-serial {display: flex;flex-direction: column;align-items: center;background-color: white;padding-right: 0.2em;padding-left: 0.2em;position: relative;}#sk-container-id-4 div.sk-item {position: relative;z-index: 1;}#sk-container-id-4 div.sk-parallel {display: flex;align-items: stretch;justify-content: center;background-color: white;position: relative;}#sk-container-id-4 div.sk-item::before, #sk-container-id-4 div.sk-parallel-item::before {content: \"\";position: absolute;border-left: 1px solid gray;box-sizing: border-box;top: 0;bottom: 0;left: 50%;z-index: -1;}#sk-container-id-4 div.sk-parallel-item {display: flex;flex-direction: column;z-index: 1;position: relative;background-color: white;}#sk-container-id-4 div.sk-parallel-item:first-child::after {align-self: flex-end;width: 50%;}#sk-container-id-4 div.sk-parallel-item:last-child::after {align-self: flex-start;width: 50%;}#sk-container-id-4 div.sk-parallel-item:only-child::after {width: 0;}#sk-container-id-4 div.sk-dashed-wrapped {border: 1px dashed gray;margin: 0 0.4em 0.5em 0.4em;box-sizing: border-box;padding-bottom: 0.4em;background-color: white;}#sk-container-id-4 div.sk-label label {font-family: monospace;font-weight: bold;display: inline-block;line-height: 1.2em;}#sk-container-id-4 div.sk-label-container {text-align: center;}#sk-container-id-4 div.sk-container {/* jupyter's `normalize.less` sets `[hidden] { display: none; }` but bootstrap.min.css set `[hidden] { display: none !important; }` so we also need the `!important` here to be able to override the default hidden behavior on the sphinx rendered scikit-learn.org. See: https://github.com/scikit-learn/scikit-learn/issues/21755 */display: inline-block !important;position: relative;}#sk-container-id-4 div.sk-text-repr-fallback {display: none;}</style><div id=\"sk-container-id-4\" class=\"sk-top-container\"><div class=\"sk-text-repr-fallback\"><pre>LogisticRegression()</pre><b>In a Jupyter environment, please rerun this cell to show the HTML representation or trust the notebook. <br />On GitHub, the HTML representation is unable to render, please try loading this page with nbviewer.org.</b></div><div class=\"sk-container\" hidden><div class=\"sk-item\"><div class=\"sk-estimator sk-toggleable\"><input class=\"sk-toggleable__control sk-hidden--visually\" id=\"sk-estimator-id-4\" type=\"checkbox\" checked><label for=\"sk-estimator-id-4\" class=\"sk-toggleable__label sk-toggleable__label-arrow\">LogisticRegression</label><div class=\"sk-toggleable__content\"><pre>LogisticRegression()</pre></div></div></div></div></div>"
      ],
      "text/plain": [
       "LogisticRegression()"
      ]
     },
     "execution_count": 99,
     "metadata": {},
     "output_type": "execute_result"
    }
   ],
   "source": [
    "# creating object from model\n",
    "log_model = LogisticRegression()\n",
    "# training the model by fitting the data\n",
    "log_model.fit(X_train,y_train)"
   ]
  },
  {
   "cell_type": "code",
   "execution_count": 100,
   "metadata": {},
   "outputs": [],
   "source": [
    "# making pridiction from the model\n",
    "y_log_pred = log_model.predict(X_test)"
   ]
  },
  {
   "cell_type": "code",
   "execution_count": 101,
   "metadata": {},
   "outputs": [
    {
     "data": {
      "text/plain": [
       "<Axes: >"
      ]
     },
     "execution_count": 101,
     "metadata": {},
     "output_type": "execute_result"
    },
    {
     "data": {
      "image/png": "[encoded data removed]",
      "text/plain": [
       "<Figure size 1200x400 with 2 Axes>"
      ]
     },
     "metadata": {},
     "output_type": "display_data"
    }
   ],
   "source": [
    "plt.ylabel('Actual')\n",
    "plt.xlabel('Predicted')\n",
    "sns.heatmap(metrics.confusion_matrix(y_test,y_log_pred),annot=True,fmt='d')"
   ]
  },
  {
   "cell_type": "code",
   "execution_count": 102,
   "metadata": {},
   "outputs": [
    {
     "name": "stdout",
     "output_type": "stream",
     "text": [
      "LogisticRegression Classifier\n",
      "\n",
      " Confusion Matrix : \n",
      " [[6531 2161]\n",
      " [2916 5718]]\n",
      "Accuracy Score :  0.7069721805379199\n",
      "Accuracy in Percentage :  70 %\n",
      "\n",
      "               precision    recall  f1-score   support\n",
      "\n",
      "           0       0.75      0.69      0.72      9447\n",
      "           1       0.66      0.73      0.69      7879\n",
      "\n",
      "    accuracy                           0.71     17326\n",
      "   macro avg       0.71      0.71      0.71     17326\n",
      "weighted avg       0.71      0.71      0.71     17326\n",
      "\n"
     ]
    }
   ],
   "source": [
    "print('LogisticRegression Classifier')\n",
    "conf_mat=metrics.confusion_matrix(y_test, y_log_pred)\n",
    "print('\\n Confusion Matrix : \\n', conf_mat)\n",
    "Accuracy_score=metrics.accuracy_score(y_test,y_log_pred)\n",
    "print('Accuracy Score : ', Accuracy_score)\n",
    "print('Accuracy in Percentage : ',int(Accuracy_score*100),'%')\n",
    "print('\\n',metrics.classification_report(y_log_pred,y_test))"
   ]
  },
  {
   "cell_type": "markdown",
   "metadata": {},
   "source": [
    "## SVM Model"
   ]
  },
  {
   "cell_type": "code",
   "execution_count": 103,
   "metadata": {},
   "outputs": [],
   "source": [
    "# importing the model\n",
    "from sklearn.svm import SVC"
   ]
  },
  {
   "cell_type": "code",
   "execution_count": 104,
   "metadata": {},
   "outputs": [
    {
     "data": {
      "text/html": [
       "<style>#sk-container-id-5 {color: black;}#sk-container-id-5 pre{padding: 0;}#sk-container-id-5 div.sk-toggleable {background-color: white;}#sk-container-id-5 label.sk-toggleable__label {cursor: pointer;display: block;width: 100%;margin-bottom: 0;padding: 0.3em;box-sizing: border-box;text-align: center;}#sk-container-id-5 label.sk-toggleable__label-arrow:before {content: \"▸\";float: left;margin-right: 0.25em;color: #696969;}#sk-container-id-5 label.sk-toggleable__label-arrow:hover:before {color: black;}#sk-container-id-5 div.sk-estimator:hover label.sk-toggleable__label-arrow:before {color: black;}#sk-container-id-5 div.sk-toggleable__content {max-height: 0;max-width: 0;overflow: hidden;text-align: left;background-color: #f0f8ff;}#sk-container-id-5 div.sk-toggleable__content pre {margin: 0.2em;color: black;border-radius: 0.25em;background-color: #f0f8ff;}#sk-container-id-5 input.sk-toggleable__control:checked~div.sk-toggleable__content {max-height: 200px;max-width: 100%;overflow: auto;}#sk-container-id-5 input.sk-toggleable__control:checked~label.sk-toggleable__label-arrow:before {content: \"▾\";}#sk-container-id-5 div.sk-estimator input.sk-toggleable__control:checked~label.sk-toggleable__label {background-color: #d4ebff;}#sk-container-id-5 div.sk-label input.sk-toggleable__control:checked~label.sk-toggleable__label {background-color: #d4ebff;}#sk-container-id-5 input.sk-hidden--visually {border: 0;clip: rect(1px 1px 1px 1px);clip: rect(1px, 1px, 1px, 1px);height: 1px;margin: -1px;overflow: hidden;padding: 0;position: absolute;width: 1px;}#sk-container-id-5 div.sk-estimator {font-family: monospace;background-color: #f0f8ff;border: 1px dotted black;border-radius: 0.25em;box-sizing: border-box;margin-bottom: 0.5em;}#sk-container-id-5 div.sk-estimator:hover {background-color: #d4ebff;}#sk-container-id-5 div.sk-parallel-item::after {content: \"\";width: 100%;border-bottom: 1px solid gray;flex-grow: 1;}#sk-container-id-5 div.sk-label:hover label.sk-toggleable__label {background-color: #d4ebff;}#sk-container-id-5 div.sk-serial::before {content: \"\";position: absolute;border-left: 1px solid gray;box-sizing: border-box;top: 0;bottom: 0;left: 50%;z-index: 0;}#sk-container-id-5 div.sk-serial {display: flex;flex-direction: column;align-items: center;background-color: white;padding-right: 0.2em;padding-left: 0.2em;position: relative;}#sk-container-id-5 div.sk-item {position: relative;z-index: 1;}#sk-container-id-5 div.sk-parallel {display: flex;align-items: stretch;justify-content: center;background-color: white;position: relative;}#sk-container-id-5 div.sk-item::before, #sk-container-id-5 div.sk-parallel-item::before {content: \"\";position: absolute;border-left: 1px solid gray;box-sizing: border-box;top: 0;bottom: 0;left: 50%;z-index: -1;}#sk-container-id-5 div.sk-parallel-item {display: flex;flex-direction: column;z-index: 1;position: relative;background-color: white;}#sk-container-id-5 div.sk-parallel-item:first-child::after {align-self: flex-end;width: 50%;}#sk-container-id-5 div.sk-parallel-item:last-child::after {align-self: flex-start;width: 50%;}#sk-container-id-5 div.sk-parallel-item:only-child::after {width: 0;}#sk-container-id-5 div.sk-dashed-wrapped {border: 1px dashed gray;margin: 0 0.4em 0.5em 0.4em;box-sizing: border-box;padding-bottom: 0.4em;background-color: white;}#sk-container-id-5 div.sk-label label {font-family: monospace;font-weight: bold;display: inline-block;line-height: 1.2em;}#sk-container-id-5 div.sk-label-container {text-align: center;}#sk-container-id-5 div.sk-container {/* jupyter's `normalize.less` sets `[hidden] { display: none; }` but bootstrap.min.css set `[hidden] { display: none !important; }` so we also need the `!important` here to be able to override the default hidden behavior on the sphinx rendered scikit-learn.org. See: https://github.com/scikit-learn/scikit-learn/issues/21755 */display: inline-block !important;position: relative;}#sk-container-id-5 div.sk-text-repr-fallback {display: none;}</style><div id=\"sk-container-id-5\" class=\"sk-top-container\"><div class=\"sk-text-repr-fallback\"><pre>SVC()</pre><b>In a Jupyter environment, please rerun this cell to show the HTML representation or trust the notebook. <br />On GitHub, the HTML representation is unable to render, please try loading this page with nbviewer.org.</b></div><div class=\"sk-container\" hidden><div class=\"sk-item\"><div class=\"sk-estimator sk-toggleable\"><input class=\"sk-toggleable__control sk-hidden--visually\" id=\"sk-estimator-id-5\" type=\"checkbox\" checked><label for=\"sk-estimator-id-5\" class=\"sk-toggleable__label sk-toggleable__label-arrow\">SVC</label><div class=\"sk-toggleable__content\"><pre>SVC()</pre></div></div></div></div></div>"
      ],
      "text/plain": [
       "SVC()"
      ]
     },
     "execution_count": 104,
     "metadata": {},
     "output_type": "execute_result"
    }
   ],
   "source": [
    "# creating the object of model\n",
    "svc_model = SVC()\n",
    "# traing the model by fitting the data\n",
    "svc_model.fit(X_train_scaled,y_train)"
   ]
  },
  {
   "cell_type": "code",
   "execution_count": 105,
   "metadata": {},
   "outputs": [],
   "source": [
    "# making prediction using the model\n",
    "y_svc_pred = svc_model.predict(X_test_scaled)"
   ]
  },
  {
   "cell_type": "code",
   "execution_count": 106,
   "metadata": {},
   "outputs": [
    {
     "data": {
      "text/plain": [
       "<Axes: >"
      ]
     },
     "execution_count": 106,
     "metadata": {},
     "output_type": "execute_result"
    },
    {
     "data": {
      "image/png": "[encoded data removed]",
      "text/plain": [
       "<Figure size 1200x400 with 2 Axes>"
      ]
     },
     "metadata": {},
     "output_type": "display_data"
    }
   ],
   "source": [
    "plt.ylabel('Actual')\n",
    "plt.xlabel('Predicted')\n",
    "sns.heatmap(metrics.confusion_matrix(y_test,y_svc_pred),annot=True,fmt='d')"
   ]
  },
  {
   "cell_type": "code",
   "execution_count": 107,
   "metadata": {},
   "outputs": [
    {
     "name": "stdout",
     "output_type": "stream",
     "text": [
      "Support Vector Classifier\n",
      "\n",
      " Confusion Matrix : \n",
      " [[6947 1745]\n",
      " [2804 5830]]\n",
      "Accuracy Score :  0.7374466120281657\n",
      "Accuracy in Percentage :  73 %\n",
      "\n",
      "               precision    recall  f1-score   support\n",
      "\n",
      "           0       0.80      0.71      0.75      9751\n",
      "           1       0.68      0.77      0.72      7575\n",
      "\n",
      "    accuracy                           0.74     17326\n",
      "   macro avg       0.74      0.74      0.74     17326\n",
      "weighted avg       0.75      0.74      0.74     17326\n",
      "\n"
     ]
    }
   ],
   "source": [
    "print('Support Vector Classifier')\n",
    "conf_mat=metrics.confusion_matrix(y_test, y_svc_pred)\n",
    "print('\\n Confusion Matrix : \\n', conf_mat)\n",
    "Accuracy_score=metrics.accuracy_score(y_test,y_svc_pred)\n",
    "print('Accuracy Score : ', Accuracy_score)\n",
    "print('Accuracy in Percentage : ',int(Accuracy_score*100),'%')\n",
    "print('\\n',metrics.classification_report(y_svc_pred,y_test))"
   ]
  },
  {
   "cell_type": "markdown",
   "metadata": {},
   "source": [
    "## KNN Model"
   ]
  },
  {
   "cell_type": "code",
   "execution_count": 108,
   "metadata": {},
   "outputs": [],
   "source": [
    "#importing KNN model\n",
    "from sklearn.neighbors import KNeighborsClassifier"
   ]
  },
  {
   "cell_type": "code",
   "execution_count": 109,
   "metadata": {},
   "outputs": [
    {
     "data": {
      "text/html": [
       "<style>#sk-container-id-6 {color: black;}#sk-container-id-6 pre{padding: 0;}#sk-container-id-6 div.sk-toggleable {background-color: white;}#sk-container-id-6 label.sk-toggleable__label {cursor: pointer;display: block;width: 100%;margin-bottom: 0;padding: 0.3em;box-sizing: border-box;text-align: center;}#sk-container-id-6 label.sk-toggleable__label-arrow:before {content: \"▸\";float: left;margin-right: 0.25em;color: #696969;}#sk-container-id-6 label.sk-toggleable__label-arrow:hover:before {color: black;}#sk-container-id-6 div.sk-estimator:hover label.sk-toggleable__label-arrow:before {color: black;}#sk-container-id-6 div.sk-toggleable__content {max-height: 0;max-width: 0;overflow: hidden;text-align: left;background-color: #f0f8ff;}#sk-container-id-6 div.sk-toggleable__content pre {margin: 0.2em;color: black;border-radius: 0.25em;background-color: #f0f8ff;}#sk-container-id-6 input.sk-toggleable__control:checked~div.sk-toggleable__content {max-height: 200px;max-width: 100%;overflow: auto;}#sk-container-id-6 input.sk-toggleable__control:checked~label.sk-toggleable__label-arrow:before {content: \"▾\";}#sk-container-id-6 div.sk-estimator input.sk-toggleable__control:checked~label.sk-toggleable__label {background-color: #d4ebff;}#sk-container-id-6 div.sk-label input.sk-toggleable__control:checked~label.sk-toggleable__label {background-color: #d4ebff;}#sk-container-id-6 input.sk-hidden--visually {border: 0;clip: rect(1px 1px 1px 1px);clip: rect(1px, 1px, 1px, 1px);height: 1px;margin: -1px;overflow: hidden;padding: 0;position: absolute;width: 1px;}#sk-container-id-6 div.sk-estimator {font-family: monospace;background-color: #f0f8ff;border: 1px dotted black;border-radius: 0.25em;box-sizing: border-box;margin-bottom: 0.5em;}#sk-container-id-6 div.sk-estimator:hover {background-color: #d4ebff;}#sk-container-id-6 div.sk-parallel-item::after {content: \"\";width: 100%;border-bottom: 1px solid gray;flex-grow: 1;}#sk-container-id-6 div.sk-label:hover label.sk-toggleable__label {background-color: #d4ebff;}#sk-container-id-6 div.sk-serial::before {content: \"\";position: absolute;border-left: 1px solid gray;box-sizing: border-box;top: 0;bottom: 0;left: 50%;z-index: 0;}#sk-container-id-6 div.sk-serial {display: flex;flex-direction: column;align-items: center;background-color: white;padding-right: 0.2em;padding-left: 0.2em;position: relative;}#sk-container-id-6 div.sk-item {position: relative;z-index: 1;}#sk-container-id-6 div.sk-parallel {display: flex;align-items: stretch;justify-content: center;background-color: white;position: relative;}#sk-container-id-6 div.sk-item::before, #sk-container-id-6 div.sk-parallel-item::before {content: \"\";position: absolute;border-left: 1px solid gray;box-sizing: border-box;top: 0;bottom: 0;left: 50%;z-index: -1;}#sk-container-id-6 div.sk-parallel-item {display: flex;flex-direction: column;z-index: 1;position: relative;background-color: white;}#sk-container-id-6 div.sk-parallel-item:first-child::after {align-self: flex-end;width: 50%;}#sk-container-id-6 div.sk-parallel-item:last-child::after {align-self: flex-start;width: 50%;}#sk-container-id-6 div.sk-parallel-item:only-child::after {width: 0;}#sk-container-id-6 div.sk-dashed-wrapped {border: 1px dashed gray;margin: 0 0.4em 0.5em 0.4em;box-sizing: border-box;padding-bottom: 0.4em;background-color: white;}#sk-container-id-6 div.sk-label label {font-family: monospace;font-weight: bold;display: inline-block;line-height: 1.2em;}#sk-container-id-6 div.sk-label-container {text-align: center;}#sk-container-id-6 div.sk-container {/* jupyter's `normalize.less` sets `[hidden] { display: none; }` but bootstrap.min.css set `[hidden] { display: none !important; }` so we also need the `!important` here to be able to override the default hidden behavior on the sphinx rendered scikit-learn.org. See: https://github.com/scikit-learn/scikit-learn/issues/21755 */display: inline-block !important;position: relative;}#sk-container-id-6 div.sk-text-repr-fallback {display: none;}</style><div id=\"sk-container-id-6\" class=\"sk-top-container\"><div class=\"sk-text-repr-fallback\"><pre>KNeighborsClassifier()</pre><b>In a Jupyter environment, please rerun this cell to show the HTML representation or trust the notebook. <br />On GitHub, the HTML representation is unable to render, please try loading this page with nbviewer.org.</b></div><div class=\"sk-container\" hidden><div class=\"sk-item\"><div class=\"sk-estimator sk-toggleable\"><input class=\"sk-toggleable__control sk-hidden--visually\" id=\"sk-estimator-id-6\" type=\"checkbox\" checked><label for=\"sk-estimator-id-6\" class=\"sk-toggleable__label sk-toggleable__label-arrow\">KNeighborsClassifier</label><div class=\"sk-toggleable__content\"><pre>KNeighborsClassifier()</pre></div></div></div></div></div>"
      ],
      "text/plain": [
       "KNeighborsClassifier()"
      ]
     },
     "execution_count": 109,
     "metadata": {},
     "output_type": "execute_result"
    }
   ],
   "source": [
    "# creating object from model\n",
    "knn_model = KNeighborsClassifier()\n",
    "# trianing the model by fitting values\n",
    "knn_model.fit(X_train_scaled,y_train)"
   ]
  },
  {
   "cell_type": "code",
   "execution_count": 110,
   "metadata": {},
   "outputs": [],
   "source": [
    "# making prediction using the model\n",
    "y_knn_pred = knn_model.predict(X_test_scaled)"
   ]
  },
  {
   "cell_type": "code",
   "execution_count": 111,
   "metadata": {},
   "outputs": [
    {
     "data": {
      "text/plain": [
       "<Axes: >"
      ]
     },
     "execution_count": 111,
     "metadata": {},
     "output_type": "execute_result"
    },
    {
     "data": {
      "image/png": "[encoded data removed]",
      "text/plain": [
       "<Figure size 1200x400 with 2 Axes>"
      ]
     },
     "metadata": {},
     "output_type": "display_data"
    }
   ],
   "source": [
    "plt.ylabel('Actual')\n",
    "plt.xlabel('Predicted')\n",
    "sns.heatmap(metrics.confusion_matrix(y_test,y_knn_pred),annot=True,fmt='d')"
   ]
  },
  {
   "cell_type": "code",
   "execution_count": 112,
   "metadata": {},
   "outputs": [
    {
     "name": "stdout",
     "output_type": "stream",
     "text": [
      "KNN Classifier\n",
      "\n",
      " Confusion Matrix : \n",
      " [[6189 2503]\n",
      " [2706 5928]]\n",
      "Accuracy Score :  0.6993535726653585\n",
      "Accuracy in Percentage :  69 %\n",
      "\n",
      "               precision    recall  f1-score   support\n",
      "\n",
      "           0       0.71      0.70      0.70      8895\n",
      "           1       0.69      0.70      0.69      8431\n",
      "\n",
      "    accuracy                           0.70     17326\n",
      "   macro avg       0.70      0.70      0.70     17326\n",
      "weighted avg       0.70      0.70      0.70     17326\n",
      "\n"
     ]
    }
   ],
   "source": [
    "print('KNN Classifier')\n",
    "conf_mat=metrics.confusion_matrix(y_test, y_knn_pred)\n",
    "print('\\n Confusion Matrix : \\n', conf_mat)\n",
    "Accuracy_score=metrics.accuracy_score(y_test,y_knn_pred)\n",
    "print('Accuracy Score : ', Accuracy_score)\n",
    "print('Accuracy in Percentage : ',int(Accuracy_score*100),'%')\n",
    "print('\\n',metrics.classification_report(y_knn_pred,y_test))"
   ]
  },
  {
   "cell_type": "markdown",
   "metadata": {},
   "source": [
    "# Random Forest with parameters tuning using RandomCV"
   ]
  },
  {
   "cell_type": "code",
   "execution_count": 113,
   "metadata": {},
   "outputs": [],
   "source": [
    "n_estimators = [int(x) for x in np.linspace(start = 40, stop = 70, num = 6)]\n",
    "# Number of features to consider at every split\n",
    "# max_features = ['auto']\n",
    "# Maximum number of levels in tree\n",
    "max_depth = [int(x) for x in np.linspace(start = 10, stop = 40, num = 7)]\n",
    "# Minimum number of samples required to split a node\n",
    "min_samples_split = [15,20,25,30]\n",
    "# Minimum number of samples required at each leaf node\n",
    "min_samples_leaf = [15,20,25,30]\n",
    "# Method of selecting samples for training each tree\n",
    "bootstrap = [True, False]\n",
    "# bootstrap = [True]\n",
    "criterion = [\"gini\", \"entropy\"]"
   ]
  },
  {
   "cell_type": "code",
   "execution_count": 114,
   "metadata": {},
   "outputs": [
    {
     "name": "stdout",
     "output_type": "stream",
     "text": [
      "{'n_estimators': [40, 46, 52, 58, 64, 70], 'max_depth': [10, 15, 20, 25, 30, 35, 40], 'min_samples_split': [15, 20, 25, 30], 'min_samples_leaf': [15, 20, 25, 30], 'bootstrap': [True, False], 'criterion': ['gini', 'entropy']}\n"
     ]
    }
   ],
   "source": [
    "# Create the param distribution\n",
    "param_dist = {'n_estimators': n_estimators,\n",
    "               'max_depth': max_depth,\n",
    "               'min_samples_split': min_samples_split,\n",
    "               'min_samples_leaf': min_samples_leaf,\n",
    "               'bootstrap': bootstrap,\n",
    "                \"criterion\": criterion}\n",
    "print(param_dist)"
   ]
  },
  {
   "cell_type": "code",
   "execution_count": 115,
   "metadata": {},
   "outputs": [],
   "source": [
    "rf_Model = RandomForestClassifier(criterion = 'gini',random_state=20)"
   ]
  },
  {
   "cell_type": "code",
   "execution_count": 116,
   "metadata": {},
   "outputs": [
    {
     "data": {
      "text/html": [
       "<style>#sk-container-id-7 {color: black;}#sk-container-id-7 pre{padding: 0;}#sk-container-id-7 div.sk-toggleable {background-color: white;}#sk-container-id-7 label.sk-toggleable__label {cursor: pointer;display: block;width: 100%;margin-bottom: 0;padding: 0.3em;box-sizing: border-box;text-align: center;}#sk-container-id-7 label.sk-toggleable__label-arrow:before {content: \"▸\";float: left;margin-right: 0.25em;color: #696969;}#sk-container-id-7 label.sk-toggleable__label-arrow:hover:before {color: black;}#sk-container-id-7 div.sk-estimator:hover label.sk-toggleable__label-arrow:before {color: black;}#sk-container-id-7 div.sk-toggleable__content {max-height: 0;max-width: 0;overflow: hidden;text-align: left;background-color: #f0f8ff;}#sk-container-id-7 div.sk-toggleable__content pre {margin: 0.2em;color: black;border-radius: 0.25em;background-color: #f0f8ff;}#sk-container-id-7 input.sk-toggleable__control:checked~div.sk-toggleable__content {max-height: 200px;max-width: 100%;overflow: auto;}#sk-container-id-7 input.sk-toggleable__control:checked~label.sk-toggleable__label-arrow:before {content: \"▾\";}#sk-container-id-7 div.sk-estimator input.sk-toggleable__control:checked~label.sk-toggleable__label {background-color: #d4ebff;}#sk-container-id-7 div.sk-label input.sk-toggleable__control:checked~label.sk-toggleable__label {background-color: #d4ebff;}#sk-container-id-7 input.sk-hidden--visually {border: 0;clip: rect(1px 1px 1px 1px);clip: rect(1px, 1px, 1px, 1px);height: 1px;margin: -1px;overflow: hidden;padding: 0;position: absolute;width: 1px;}#sk-container-id-7 div.sk-estimator {font-family: monospace;background-color: #f0f8ff;border: 1px dotted black;border-radius: 0.25em;box-sizing: border-box;margin-bottom: 0.5em;}#sk-container-id-7 div.sk-estimator:hover {background-color: #d4ebff;}#sk-container-id-7 div.sk-parallel-item::after {content: \"\";width: 100%;border-bottom: 1px solid gray;flex-grow: 1;}#sk-container-id-7 div.sk-label:hover label.sk-toggleable__label {background-color: #d4ebff;}#sk-container-id-7 div.sk-serial::before {content: \"\";position: absolute;border-left: 1px solid gray;box-sizing: border-box;top: 0;bottom: 0;left: 50%;z-index: 0;}#sk-container-id-7 div.sk-serial {display: flex;flex-direction: column;align-items: center;background-color: white;padding-right: 0.2em;padding-left: 0.2em;position: relative;}#sk-container-id-7 div.sk-item {position: relative;z-index: 1;}#sk-container-id-7 div.sk-parallel {display: flex;align-items: stretch;justify-content: center;background-color: white;position: relative;}#sk-container-id-7 div.sk-item::before, #sk-container-id-7 div.sk-parallel-item::before {content: \"\";position: absolute;border-left: 1px solid gray;box-sizing: border-box;top: 0;bottom: 0;left: 50%;z-index: -1;}#sk-container-id-7 div.sk-parallel-item {display: flex;flex-direction: column;z-index: 1;position: relative;background-color: white;}#sk-container-id-7 div.sk-parallel-item:first-child::after {align-self: flex-end;width: 50%;}#sk-container-id-7 div.sk-parallel-item:last-child::after {align-self: flex-start;width: 50%;}#sk-container-id-7 div.sk-parallel-item:only-child::after {width: 0;}#sk-container-id-7 div.sk-dashed-wrapped {border: 1px dashed gray;margin: 0 0.4em 0.5em 0.4em;box-sizing: border-box;padding-bottom: 0.4em;background-color: white;}#sk-container-id-7 div.sk-label label {font-family: monospace;font-weight: bold;display: inline-block;line-height: 1.2em;}#sk-container-id-7 div.sk-label-container {text-align: center;}#sk-container-id-7 div.sk-container {/* jupyter's `normalize.less` sets `[hidden] { display: none; }` but bootstrap.min.css set `[hidden] { display: none !important; }` so we also need the `!important` here to be able to override the default hidden behavior on the sphinx rendered scikit-learn.org. See: https://github.com/scikit-learn/scikit-learn/issues/21755 */display: inline-block !important;position: relative;}#sk-container-id-7 div.sk-text-repr-fallback {display: none;}</style><div id=\"sk-container-id-7\" class=\"sk-top-container\"><div class=\"sk-text-repr-fallback\"><pre>RandomizedSearchCV(estimator=RandomForestClassifier(random_state=20),\n",
       "                   param_distributions={&#x27;bootstrap&#x27;: [True, False],\n",
       "                                        &#x27;criterion&#x27;: [&#x27;gini&#x27;, &#x27;entropy&#x27;],\n",
       "                                        &#x27;max_depth&#x27;: [10, 15, 20, 25, 30, 35,\n",
       "                                                      40],\n",
       "                                        &#x27;min_samples_leaf&#x27;: [15, 20, 25, 30],\n",
       "                                        &#x27;min_samples_split&#x27;: [15, 20, 25, 30],\n",
       "                                        &#x27;n_estimators&#x27;: [40, 46, 52, 58, 64,\n",
       "                                                         70]})</pre><b>In a Jupyter environment, please rerun this cell to show the HTML representation or trust the notebook. <br />On GitHub, the HTML representation is unable to render, please try loading this page with nbviewer.org.</b></div><div class=\"sk-container\" hidden><div class=\"sk-item sk-dashed-wrapped\"><div class=\"sk-label-container\"><div class=\"sk-label sk-toggleable\"><input class=\"sk-toggleable__control sk-hidden--visually\" id=\"sk-estimator-id-7\" type=\"checkbox\" ><label for=\"sk-estimator-id-7\" class=\"sk-toggleable__label sk-toggleable__label-arrow\">RandomizedSearchCV</label><div class=\"sk-toggleable__content\"><pre>RandomizedSearchCV(estimator=RandomForestClassifier(random_state=20),\n",
       "                   param_distributions={&#x27;bootstrap&#x27;: [True, False],\n",
       "                                        &#x27;criterion&#x27;: [&#x27;gini&#x27;, &#x27;entropy&#x27;],\n",
       "                                        &#x27;max_depth&#x27;: [10, 15, 20, 25, 30, 35,\n",
       "                                                      40],\n",
       "                                        &#x27;min_samples_leaf&#x27;: [15, 20, 25, 30],\n",
       "                                        &#x27;min_samples_split&#x27;: [15, 20, 25, 30],\n",
       "                                        &#x27;n_estimators&#x27;: [40, 46, 52, 58, 64,\n",
       "                                                         70]})</pre></div></div></div><div class=\"sk-parallel\"><div class=\"sk-parallel-item\"><div class=\"sk-item\"><div class=\"sk-label-container\"><div class=\"sk-label sk-toggleable\"><input class=\"sk-toggleable__control sk-hidden--visually\" id=\"sk-estimator-id-8\" type=\"checkbox\" ><label for=\"sk-estimator-id-8\" class=\"sk-toggleable__label sk-toggleable__label-arrow\">estimator: RandomForestClassifier</label><div class=\"sk-toggleable__content\"><pre>RandomForestClassifier(random_state=20)</pre></div></div></div><div class=\"sk-serial\"><div class=\"sk-item\"><div class=\"sk-estimator sk-toggleable\"><input class=\"sk-toggleable__control sk-hidden--visually\" id=\"sk-estimator-id-9\" type=\"checkbox\" ><label for=\"sk-estimator-id-9\" class=\"sk-toggleable__label sk-toggleable__label-arrow\">RandomForestClassifier</label><div class=\"sk-toggleable__content\"><pre>RandomForestClassifier(random_state=20)</pre></div></div></div></div></div></div></div></div></div></div>"
      ],
      "text/plain": [
       "RandomizedSearchCV(estimator=RandomForestClassifier(random_state=20),\n",
       "                   param_distributions={'bootstrap': [True, False],\n",
       "                                        'criterion': ['gini', 'entropy'],\n",
       "                                        'max_depth': [10, 15, 20, 25, 30, 35,\n",
       "                                                      40],\n",
       "                                        'min_samples_leaf': [15, 20, 25, 30],\n",
       "                                        'min_samples_split': [15, 20, 25, 30],\n",
       "                                        'n_estimators': [40, 46, 52, 58, 64,\n",
       "                                                         70]})"
      ]
     },
     "execution_count": 116,
     "metadata": {},
     "output_type": "execute_result"
    }
   ],
   "source": [
    "from sklearn.model_selection import RandomizedSearchCV\n",
    "rf_randcv = RandomizedSearchCV(estimator= rf_Model,param_distributions=param_dist)\n",
    "rf_randcv.fit(X_train,y_train)"
   ]
  },
  {
   "cell_type": "code",
   "execution_count": 117,
   "metadata": {},
   "outputs": [
    {
     "data": {
      "text/plain": [
       "{'n_estimators': 52,\n",
       " 'min_samples_split': 30,\n",
       " 'min_samples_leaf': 25,\n",
       " 'max_depth': 40,\n",
       " 'criterion': 'entropy',\n",
       " 'bootstrap': True}"
      ]
     },
     "execution_count": 117,
     "metadata": {},
     "output_type": "execute_result"
    }
   ],
   "source": [
    "rf_randcv.best_params_"
   ]
  },
  {
   "cell_type": "code",
   "execution_count": 123,
   "metadata": {},
   "outputs": [],
   "source": [
    "rf_rcv_model = RandomForestClassifier(n_estimators = 52,\n",
    "                                  max_depth=40,\n",
    "                                  min_samples_leaf=30 ,\n",
    "                                  min_samples_split=25,\n",
    "                                  bootstrap= True,\n",
    "                                  criterion = 'entropy',\n",
    "                                  n_jobs = -1,random_state=20)\n",
    "rf_rcv_model.fit(X_train,y_train)\n",
    "yrf_rcv_pred = rf_rcv_model.predict(X_test)"
   ]
  },
  {
   "cell_type": "code",
   "execution_count": 124,
   "metadata": {},
   "outputs": [
    {
     "data": {
      "text/plain": [
       "<Axes: >"
      ]
     },
     "execution_count": 124,
     "metadata": {},
     "output_type": "execute_result"
    },
    {
     "data": {
      "image/png": "[encoded data removed]",
      "text/plain": [
       "<Figure size 1200x400 with 2 Axes>"
      ]
     },
     "metadata": {},
     "output_type": "display_data"
    }
   ],
   "source": [
    "plt.ylabel('Actual')\n",
    "plt.xlabel('Predicted')\n",
    "sns.heatmap(metrics.confusion_matrix(y_test,y_rf_pred),annot=True,fmt='d')"
   ]
  },
  {
   "cell_type": "code",
   "execution_count": 125,
   "metadata": {},
   "outputs": [
    {
     "name": "stdout",
     "output_type": "stream",
     "text": [
      "Random Forest with parameters tuning using RandomCV\n",
      "\n",
      " Confusion Matrix : \n",
      " [[6797 1895]\n",
      " [2630 6004]]\n",
      "Accuracy Score :  0.7388318134595405\n",
      "Accuracy in Percentage :  73 %\n",
      "\n",
      "               precision    recall  f1-score   support\n",
      "\n",
      "           0       0.78      0.72      0.75      9427\n",
      "           1       0.70      0.76      0.73      7899\n",
      "\n",
      "    accuracy                           0.74     17326\n",
      "   macro avg       0.74      0.74      0.74     17326\n",
      "weighted avg       0.74      0.74      0.74     17326\n",
      "\n"
     ]
    }
   ],
   "source": [
    "print('Random Forest with parameters tuning using RandomCV')\n",
    "conf_mat=metrics.confusion_matrix(y_test, yrf_rcv_pred)\n",
    "print('\\n Confusion Matrix : \\n', conf_mat)\n",
    "Accuracy_score=metrics.accuracy_score(y_test,yrf_rcv_pred)\n",
    "print('Accuracy Score : ', Accuracy_score)\n",
    "print('Accuracy in Percentage : ',int(Accuracy_score*100),'%')\n",
    "print('\\n',metrics.classification_report(yrf_rcv_pred,y_test))"
   ]
  },
  {
   "cell_type": "code",
   "execution_count": 126,
   "metadata": {},
   "outputs": [
    {
     "name": "stdout",
     "output_type": "stream",
     "text": [
      "Train Accuracy - : 0.751\n",
      "Test Accuracy - : 0.739\n"
     ]
    }
   ],
   "source": [
    "print (f'Train Accuracy - : {rf_randcv.score(X_train,y_train):.3f}')\n",
    "print (f'Test Accuracy - : {rf_randcv.score(X_test,y_test):.3f}');"
   ]
  },
  {
   "cell_type": "markdown",
   "metadata": {},
   "source": [
    "# Showing the accuracy of every ML model"
   ]
  },
  {
   "cell_type": "code",
   "execution_count": 127,
   "metadata": {},
   "outputs": [
    {
     "name": "stdout",
     "output_type": "stream",
     "text": [
      "The accuracy of  RandomForestClassifier is : 71.72 %\n",
      "The accuracy of  RandomForest with parameter tuning RandomCV  is : 73.88 %\n",
      "The accuracy of  GaussianNB is : 72.01 %\n",
      "The accuracy of  LogisticRegression is : 70.7 %\n",
      "The accuracy of  SVC is : 73.74 %\n",
      "The accuracy of  KNeighborsClassifier is : 69.94 %\n",
      "The accuracy of  DecisionTreeClassifier is : 63.19 %\n"
     ]
    }
   ],
   "source": [
    "accuracy = {'RandomForestClassifier': metrics.accuracy_score(y_test,y_rf_pred),\n",
    "            'RandomForest with parameter tuning RandomCV ': metrics.accuracy_score(y_test,yrf_rcv_pred),\n",
    "            'GaussianNB': metrics.accuracy_score(y_test,y_naive_pred),\n",
    "            'LogisticRegression': metrics.accuracy_score(y_test,y_log_pred),\n",
    "            'SVC': metrics.accuracy_score(y_test,y_svc_pred),\n",
    "            'KNeighborsClassifier': metrics.accuracy_score(y_test,y_knn_pred),\n",
    "            'DecisionTreeClassifier': metrics.accuracy_score(y_test,y_tree_pred)\n",
    "           }\n",
    "for key,value in accuracy.items():\n",
    "    print('The accuracy of ',key,'is :',np.round(value*100,2),'%')"
   ]
  }
 ],
 "metadata": {
  "colab": {
   "provenance": []
  },
  "kernelspec": {
   "display_name": "Python 3 (ipykernel)",
   "language": "python",
   "name": "python3"
  },
  "language_info": {
   "codemirror_mode": {
    "name": "ipython",
    "version": 3
   },
   "file_extension": ".py",
   "mimetype": "text/x-python",
   "name": "python",
   "nbconvert_exporter": "python",
   "pygments_lexer": "ipython3",
   "version": "3.11.4"
  }
 },
 "nbformat": 4,
 "nbformat_minor": 1
}

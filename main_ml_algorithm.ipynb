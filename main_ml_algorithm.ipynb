{
 "cells": [
  {
   "cell_type": "markdown",
   "id": "fa0c32cd",
   "metadata": {},
   "source": [
    "# Main Mechine Learning Algorithms"
   ]
  },
  {
   "cell_type": "markdown",
   "id": "9e646ea2",
   "metadata": {},
   "source": [
    "<h4>Linear Regression</h4>\n",
    "<h4>Logestic Regression</h4>\n",
    "<h4>Decision Tree</h4>\n",
    "<h4>Random Forest</h4>\n",
    "<h4>Naive Bayes Classifier</h4>\n",
    "<h4>Support_Vector_Mechanism</h4>\n",
    "<h4>KNN</h4>\n",
    "<h4>K-means Clustring</h4>\n",
    "<h4>Dimensionality Reduction Alogrithm (Principal_Componant_Analysis)</h2>\n",
    "<h4>Gradient Boosting algorithms</h4>\n",
    "<ul><li>GBM</li>\n",
    "<li>XGBoost</li>\n",
    "<li>LightGBM</li>\n",
    "<li>CatBoost</li></ul>"
   ]
  },
  {
   "cell_type": "markdown",
   "id": "f9e19087",
   "metadata": {},
   "source": [
    "## For splitting data into training and testing part"
   ]
  },
  {
   "cell_type": "code",
   "execution_count": null,
   "id": "d0a78b25",
   "metadata": {},
   "outputs": [],
   "source": [
    "X = df.drop(\"Dependent Variable\",axis=1)\n",
    "y = data[\"Dependent Variable\"]"
   ]
  },
  {
   "cell_type": "code",
   "execution_count": 2,
   "id": "06c622ca",
   "metadata": {},
   "outputs": [],
   "source": [
    "from sklearn.model_selection import train_test_split"
   ]
  },
  {
   "cell_type": "code",
   "execution_count": null,
   "id": "5d198932",
   "metadata": {},
   "outputs": [],
   "source": [
    "X_train, X_test, y_train, y_test = train_test_split(X, y, test_size=0.33, random_state=42)"
   ]
  },
  {
   "cell_type": "markdown",
   "id": "db60ac9d",
   "metadata": {},
   "source": [
    "# After cleaning and sepreating the data into (X_train,X_test,y_train,y_test)"
   ]
  },
  {
   "cell_type": "markdown",
   "id": "193d79fd",
   "metadata": {},
   "source": [
    "## Linear Regrassion"
   ]
  },
  {
   "cell_type": "markdown",
   "id": "a790fa82",
   "metadata": {},
   "source": [
    "<b>line of best fit</b><br>\n",
    "<b>Use heatmap, joint plot, pairplot for better understanding</b><br>\n",
    "<b>Uses :</b>\n",
    "<ol>\n",
    "    <li>House-price estimations using various variables like\n",
    "the area of the property, location, number of\n",
    "bedrooms, etc.</li>\n",
    "    <li>Suitable for predicting continuous target variable</li>\n",
    "    <li>Stock price prediction models</li>\n",
    "    <li>Market and Sales: market research and sales forecasting, understanding factors influencing consumer behavior, predicting product demand, optimizing pricing strategies, measuring effectiveness of marketing campaigns.</li>\n",
    "    <li>Social Science: examine factors affecting education outcomes, assess social and economic disparities, study population trends, and analyze survey data.</li>\n",
    "    <li>Healthcare: impact of medical treatments, pridicting patient outcomes, modeling disease progression, estimate helthcare cost</li>\n",
    "    <li>Real Estate</li>\n",
    "    <li>Environmenal Science: analyze the relationships between environmental variables, predict pollution levels, model climate change, and assess the impact of human activities on ecosystems.</li>\n",
    "    <li>Engineering and Manufacturing: quality control, process optimization, predicting equipment failure, and\n",
    "optimizing production efficiency.</li>\n",
    "</ol>"
   ]
  },
  {
   "cell_type": "code",
   "execution_count": 3,
   "id": "758f4810",
   "metadata": {},
   "outputs": [],
   "source": [
    "from sklearn.linear_model import LinearRegression"
   ]
  },
  {
   "cell_type": "code",
   "execution_count": null,
   "id": "55f959d6",
   "metadata": {},
   "outputs": [],
   "source": [
    "regressor = LinearRegression()\n",
    "regressor.fit(X_train,y_train)"
   ]
  },
  {
   "cell_type": "code",
   "execution_count": null,
   "id": "11bcfca9",
   "metadata": {},
   "outputs": [],
   "source": [
    "y_pred = regressor.predict(X_test)"
   ]
  },
  {
   "cell_type": "markdown",
   "id": "3bff21a8",
   "metadata": {},
   "source": [
    "## Logistics Regression"
   ]
  },
  {
   "cell_type": "markdown",
   "id": "90d88002",
   "metadata": {},
   "source": [
    "<b>Primarily used for binary classification problems and Regression</b><br>\n",
    "<b>Linear regression + Sigmoid Function</b><br>\n",
    "<ol>\n",
    "<>\n",
    "</ol>"
   ]
  },
  {
   "cell_type": "code",
   "execution_count": 4,
   "id": "3698b8cb",
   "metadata": {},
   "outputs": [],
   "source": [
    "from sklearn.linear_model import LogisticRegression"
   ]
  },
  {
   "cell_type": "code",
   "execution_count": null,
   "id": "cf503e3e",
   "metadata": {},
   "outputs": [],
   "source": [
    "classifier = LogisticRegression()\n",
    "classifier.fit(X_train,y_train)"
   ]
  },
  {
   "cell_type": "code",
   "execution_count": null,
   "id": "1fff28fd",
   "metadata": {},
   "outputs": [],
   "source": [
    "y_pred = classifier.predict(X_test)"
   ]
  },
  {
   "cell_type": "markdown",
   "id": "c1bda163",
   "metadata": {},
   "source": [
    "## Decision Tree"
   ]
  },
  {
   "cell_type": "code",
   "execution_count": 7,
   "id": "d0af9a86",
   "metadata": {},
   "outputs": [],
   "source": [
    "from sklearn.tree import DecisionTreeClassifier, DecisionTreeRegressor"
   ]
  },
  {
   "cell_type": "code",
   "execution_count": null,
   "id": "cc3326e6",
   "metadata": {},
   "outputs": [],
   "source": [
    "clf_model = DecisionTreeClassifier()\n",
    "clf_model.fit(X_train,y_train_classification)"
   ]
  },
  {
   "cell_type": "code",
   "execution_count": null,
   "id": "d0fc4b8d",
   "metadata": {},
   "outputs": [],
   "source": [
    "reg_model = DecisionTreeRegressor()\n",
    "reg_model.fit(X_train,y_train_Regression)"
   ]
  },
  {
   "cell_type": "code",
   "execution_count": null,
   "id": "d6e00ff5",
   "metadata": {},
   "outputs": [],
   "source": [
    "y_pred_clf = clf_model.predict(X_test)\n",
    "y_pred_reg = reg_model.predict(X_test)"
   ]
  },
  {
   "cell_type": "markdown",
   "id": "09ada585",
   "metadata": {},
   "source": [
    "## Random Forest"
   ]
  },
  {
   "cell_type": "code",
   "execution_count": 8,
   "id": "90c1928c",
   "metadata": {},
   "outputs": [],
   "source": [
    "from sklearn.ensemble import RandomForestClassifier,RandomForestRegressor"
   ]
  },
  {
   "cell_type": "code",
   "execution_count": null,
   "id": "3bfe69e4",
   "metadata": {},
   "outputs": [],
   "source": [
    "clf_model = RandomForestClassifier()\n",
    "clf_model.fit(X_train,y_train_classification)"
   ]
  },
  {
   "cell_type": "code",
   "execution_count": null,
   "id": "0383a42c",
   "metadata": {},
   "outputs": [],
   "source": [
    "reg_model = RandomForestRegressor()\n",
    "reg_model.fit(X_train,y_train_Regression)"
   ]
  },
  {
   "cell_type": "code",
   "execution_count": null,
   "id": "3aeba536",
   "metadata": {},
   "outputs": [],
   "source": [
    "y_pred_clf = clf_model.predict(X_test)\n",
    "y_pred_reg = reg_model.predict(X_test)"
   ]
  },
  {
   "cell_type": "markdown",
   "id": "81653c59",
   "metadata": {},
   "source": [
    "## Naive Bayes Classifier"
   ]
  },
  {
   "cell_type": "code",
   "execution_count": 9,
   "id": "0b01c36e",
   "metadata": {},
   "outputs": [],
   "source": [
    "from sklearn.naive_bayes import GaussianNB"
   ]
  },
  {
   "cell_type": "code",
   "execution_count": null,
   "id": "f0703e95",
   "metadata": {},
   "outputs": [],
   "source": [
    "model = GaussianNB()\n",
    "model.fit(X_train,y_train)"
   ]
  },
  {
   "cell_type": "code",
   "execution_count": null,
   "id": "2985d4ef",
   "metadata": {},
   "outputs": [],
   "source": [
    "y_pred = model.predict(X_test)"
   ]
  },
  {
   "cell_type": "markdown",
   "id": "8335228c",
   "metadata": {},
   "source": [
    "## SVM"
   ]
  },
  {
   "cell_type": "code",
   "execution_count": 12,
   "id": "ccfec2b7",
   "metadata": {},
   "outputs": [],
   "source": [
    "from sklearn.svm import SVC,SVR"
   ]
  },
  {
   "cell_type": "code",
   "execution_count": null,
   "id": "81c42bbc",
   "metadata": {},
   "outputs": [],
   "source": [
    "clf_model = SVC(kernel='linear')\n",
    "clf_model.fit(X_train,y_train_classification)"
   ]
  },
  {
   "cell_type": "code",
   "execution_count": null,
   "id": "b036d33e",
   "metadata": {},
   "outputs": [],
   "source": [
    "reg_model = SVR(kernel='linear')\n",
    "reg_model.fit(X_train,y_train_Regression)"
   ]
  },
  {
   "cell_type": "code",
   "execution_count": null,
   "id": "9fa7da80",
   "metadata": {},
   "outputs": [],
   "source": [
    "y_pred_clf = clf_model.predict(X_test)\n",
    "y_pred_reg = reg_model.predict(X_test)"
   ]
  },
  {
   "cell_type": "markdown",
   "id": "a7f6081b",
   "metadata": {},
   "source": [
    "## K-NEAREST Neighbors"
   ]
  },
  {
   "cell_type": "code",
   "execution_count": 13,
   "id": "0a19c886",
   "metadata": {},
   "outputs": [],
   "source": [
    "from sklearn.neighbors import KNeighborsClassifier,KNeighborsRegressor"
   ]
  },
  {
   "cell_type": "code",
   "execution_count": null,
   "id": "b5df5ce8",
   "metadata": {},
   "outputs": [],
   "source": [
    "clf_model = KNeighborsClassifier(n_neighbors=3)\n",
    "clf_model.fit(X_train,y_train_classification)"
   ]
  },
  {
   "cell_type": "code",
   "execution_count": null,
   "id": "f314998d",
   "metadata": {},
   "outputs": [],
   "source": [
    "reg_model = KNeighborsRegressor(n_neighbors=3)\n",
    "reg_model.fit(X_train,y_train_Regression)"
   ]
  },
  {
   "cell_type": "code",
   "execution_count": null,
   "id": "0e1c2205",
   "metadata": {},
   "outputs": [],
   "source": [
    "y_pred_clf = clf_model.predict(X_test)\n",
    "y_pred_reg = reg_model.predict(X_test)"
   ]
  },
  {
   "cell_type": "markdown",
   "id": "57e4a479",
   "metadata": {},
   "source": [
    "## K-MEANS Clustering"
   ]
  },
  {
   "cell_type": "markdown",
   "id": "27b339ea",
   "metadata": {},
   "source": [
    "<ul><li>It is a Unsupervised Mechine Learning Model</li>\n",
    "<li>Used for clustering, not for classification or regression</li></ul>\n",
    "<p>It is used for partition a dataset into number of clusters</p><br>\n",
    "<b>Use Scatter plot to better understainding the data</b><br>\n",
    "<br>\n",
    "<B>Uses :</B><ol>\n",
    "    <li>Customer Segmentation</li>\n",
    "    <li>Anomaly detection</li>\n",
    "    <li>Medical image segmentation</li>\n",
    "</ol>"
   ]
  },
  {
   "cell_type": "code",
   "execution_count": 14,
   "id": "f067d25a",
   "metadata": {},
   "outputs": [],
   "source": [
    "from sklearn.cluster import KMeans"
   ]
  },
  {
   "cell_type": "code",
   "execution_count": null,
   "id": "0a3a720c",
   "metadata": {},
   "outputs": [],
   "source": [
    "kmeans = KMeans(n_clusters=2) # n_cluseters means number of cluster to be formed in the model.\n",
    "kmeans.fit(X)"
   ]
  },
  {
   "cell_type": "code",
   "execution_count": null,
   "id": "4e8415e1",
   "metadata": {},
   "outputs": [],
   "source": [
    "centroids = kmeans.cluster_centers_ #it is an 2d array of center of cluster with X and Y co-ordinates\n",
    "labels = kmeans.labels_"
   ]
  },
  {
   "cell_type": "code",
   "execution_count": null,
   "id": "bc74f45e",
   "metadata": {},
   "outputs": [],
   "source": [
    "new_data = #new dataframe or array that used to find the group in which they belong\n",
    "new_labels = kmeans.predict(new_data)"
   ]
  }
 ],
 "metadata": {
  "kernelspec": {
   "display_name": "Python 3 (ipykernel)",
   "language": "python",
   "name": "python3"
  },
  "language_info": {
   "codemirror_mode": {
    "name": "ipython",
    "version": 3
   },
   "file_extension": ".py",
   "mimetype": "text/x-python",
   "name": "python",
   "nbconvert_exporter": "python",
   "pygments_lexer": "ipython3",
   "version": "3.11.4"
  }
 },
 "nbformat": 4,
 "nbformat_minor": 5
}

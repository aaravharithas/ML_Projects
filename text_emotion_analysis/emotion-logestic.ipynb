{
 "cells": [
  {
   "cell_type": "markdown",
   "id": "46985696-bef3-49df-b806-6c950b321db1",
   "metadata": {},
   "source": [
    "sadness (0), joy (1), love (2), anger (3), fear (4)"
   ]
  },
  {
   "cell_type": "code",
   "execution_count": null,
   "id": "61941d80-ac4a-4d81-aff9-80d3efefe0ff",
   "metadata": {},
   "outputs": [],
   "source": [
    " # Import necessary libraries\n",
    "import pandas as pd\n",
    "from sklearn.model_selection import train_test_split\n",
    "from sklearn.feature_extraction.text import TfidfVectorizer\n",
    "from sklearn.linear_model import LogisticRegression\n",
    "from sklearn.metrics import classification_report, accuracy_score"
   ]
  },
  {
   "cell_type": "code",
   "execution_count": null,
   "id": "a26b7719-e0ce-486c-9dbb-4e3ff0cab172",
   "metadata": {},
   "outputs": [],
   "source": [
    "train_df = pd.read_csv('training.csv')\n",
    "val_df = pd.read_csv('validation.csv')\n",
    "test_df = pd.read_csv('test.csv')"
   ]
  },
  {
   "cell_type": "code",
   "execution_count": null,
   "id": "4b8c15db-af1f-44d5-8b20-19d518e7abe0",
   "metadata": {},
   "outputs": [],
   "source": [
    "pd.concat([train_df,val_df]).shape"
   ]
  },
  {
   "cell_type": "code",
   "execution_count": null,
   "id": "0fa9376b-7bb3-44ce-899e-059458ca0247",
   "metadata": {},
   "outputs": [],
   "source": [
    "train_df.head(3)"
   ]
  },
  {
   "cell_type": "code",
   "execution_count": null,
   "id": "c07041d4-3b0c-421c-89d1-1fcfb3c7f0f9",
   "metadata": {},
   "outputs": [],
   "source": [
    "def preprocess_text(text):\n",
    "    # Lowercase the text\n",
    "    text = text.lower()\n",
    "    # Remove non-alphanumeric characters\n",
    "    text = ''.join([char for char in text if char.isalnum() or char.isspace()])\n",
    "    return text"
   ]
  },
  {
   "cell_type": "code",
   "execution_count": null,
   "id": "1ee00bf1-8724-4fc9-8aea-6db60f3a9485",
   "metadata": {},
   "outputs": [],
   "source": [
    "# Apply preprocessing to each dataset\n",
    "train_df['processed_text'] = train_df['text'].apply(preprocess_text)\n",
    "val_df['processed_text'] = val_df['text'].apply(preprocess_text)\n",
    "test_df['processed_text'] = test_df['text'].apply(preprocess_text)"
   ]
  },
  {
   "cell_type": "code",
   "execution_count": null,
   "id": "f3a54f91-cc55-4b0a-9e46-7faf67594b62",
   "metadata": {},
   "outputs": [],
   "source": [
    "# Extract features (X) and labels (y) from the preprocessed text\n",
    "X_train = train_df['processed_text']\n",
    "y_train = train_df['label']\n",
    "X_val = val_df['processed_text']\n",
    "y_val = val_df['label']\n",
    "X_test = test_df['processed_text']\n",
    "y_test = test_df['label']"
   ]
  },
  {
   "cell_type": "code",
   "execution_count": null,
   "id": "db4cfa99-743d-4e3f-a7eb-2844f5ffec63",
   "metadata": {},
   "outputs": [],
   "source": [
    "# Convert text data to numeric form using TF-IDF Vectorization\n",
    "vectorizer = TfidfVectorizer(max_features=1000)  # You can adjust the number of features as needed\n",
    "X_train_tfidf = vectorizer.fit_transform(X_train)\n",
    "X_val_tfidf = vectorizer.transform(X_val)\n",
    "X_test_tfidf = vectorizer.transform(X_test)"
   ]
  },
  {
   "cell_type": "code",
   "execution_count": null,
   "id": "093d5fe2-49e2-417e-999b-ed517dacb4c0",
   "metadata": {},
   "outputs": [],
   "source": [
    "# Train a simple machine learning model (Logistic Regression)\n",
    "model = LogisticRegression()\n",
    "model.fit(X_train_tfidf, y_train)"
   ]
  },
  {
   "cell_type": "code",
   "execution_count": null,
   "id": "65d913df-9ae8-4a2a-9e5d-ef09c2c93ba0",
   "metadata": {},
   "outputs": [],
   "source": [
    "# Evaluate the model on the validation set\n",
    "y_val_pred = model.predict(X_val_tfidf)\n",
    "print(\"Validation Accuracy:\", accuracy_score(y_val, y_val_pred))\n",
    "print(\"Classification Report (Validation):\\n\", classification_report(y_val, y_val_pred))"
   ]
  },
  {
   "cell_type": "code",
   "execution_count": null,
   "id": "753ac633-b803-4bfb-934f-cb472732993c",
   "metadata": {},
   "outputs": [],
   "source": [
    "# Evaluate the model on the test set\n",
    "y_test_pred = model.predict(X_test_tfidf)\n",
    "print(\"Test Accuracy:\", accuracy_score(y_test, y_test_pred))\n",
    "print(\"Classification Report (Test):\\n\", classification_report(y_test, y_test_pred))"
   ]
  },
  {
   "cell_type": "code",
   "execution_count": null,
   "id": "ba4ad9e2-e72d-47a2-a681-75258b105607",
   "metadata": {},
   "outputs": [],
   "source": [
    "values = ['sad','happy','love','anger','fear']"
   ]
  },
  {
   "cell_type": "code",
   "execution_count": null,
   "id": "e12f2709-1817-420c-b759-52569df4f46e",
   "metadata": {},
   "outputs": [],
   "source": [
    "my_input = \"i am very shocked after hearing about you\""
   ]
  },
  {
   "cell_type": "code",
   "execution_count": null,
   "id": "c44c86d5-6c67-4be6-8361-7e8441c88f7d",
   "metadata": {},
   "outputs": [],
   "source": [
    "my_input = preprocess_text(my_input)\n",
    "feed_input = vectorizer.transform([my_input])"
   ]
  },
  {
   "cell_type": "code",
   "execution_count": null,
   "id": "a804529e-eef5-4219-890b-a47911c6e025",
   "metadata": {},
   "outputs": [],
   "source": [
    "output = model.predict(pd.Series([feed_input])[0])[0]\n",
    "print(values[output])"
   ]
  },
  {
   "cell_type": "code",
   "execution_count": null,
   "id": "c46f3222-1423-447b-b9d0-b975783413ee",
   "metadata": {},
   "outputs": [],
   "source": [
    "model.predict_proba(pd.Series([feed_input])[0])[0]*100"
   ]
  }
 ],
 "metadata": {
  "kernelspec": {
   "display_name": "Python 3 (ipykernel)",
   "language": "python",
   "name": "python3"
  },
  "language_info": {
   "codemirror_mode": {
    "name": "ipython",
    "version": 3
   },
   "file_extension": ".py",
   "mimetype": "text/x-python",
   "name": "python",
   "nbconvert_exporter": "python",
   "pygments_lexer": "ipython3",
   "version": "3.11.7"
  }
 },
 "nbformat": 4,
 "nbformat_minor": 5
}
